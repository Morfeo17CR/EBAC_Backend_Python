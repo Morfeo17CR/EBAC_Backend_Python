{
 "cells": [
  {
   "cell_type": "code",
   "execution_count": 16,
   "id": "7daffb32-760a-42f0-bbfa-4cbeab7c6ea6",
   "metadata": {},
   "outputs": [
    {
     "name": "stdout",
     "output_type": "stream",
     "text": [
      "Lista de Reproducción\n",
      "\n",
      "Ingresa la palabra que te gustaría\n",
      "Ejemplo: 'rock', y obtendrás un playlist de canciones o artistas que incluyan la palabra rock\n"
     ]
    },
    {
     "name": "stdin",
     "output_type": "stream",
     "text": [
      " rock\n"
     ]
    },
    {
     "name": "stdout",
     "output_type": "stream",
     "text": [
      "('Rock', 'Olamide')\n",
      "('ROCK (feat. Le Juiice)', 'Lithium')\n",
      "('Rock', 'Plies')\n",
      "('Rock', 'BlackPathos')\n",
      "('Rock', 'SEVENTEEN')\n",
      "('ROCK', 'Stray Kids')\n",
      "('Rock My Body', 'R3HAB')\n",
      "('Rock (Remix)', 'Celph Titled')\n",
      "('The Rock (From \"The Rock\")', 'The City of Prague Philharmonic Orchestra')\n",
      "('I Am Rock', 'Rock')\n",
      "('Roch', 'Amikam Lovit')\n",
      "('Rock Your Body', 'Justin Timberlake')\n",
      "('All Summer Long', 'Kid Rock')\n",
      "('Só Rock 2', 'Rock Danger')\n",
      "('Uplifting Airwaves', 'Rock')\n",
      "('Rock or Bust', 'AC/DC')\n",
      "('A Rush of Dopamine', 'Rock')\n",
      "('Rick', 'Benny The Butcher')\n",
      "('rock hudson', 'Kelly Clarkson')\n",
      "('Rock It', 'Ofenbach')\n",
      "('Rocky', 'Still Woozy')\n",
      "('The Big Bang', 'Rock Mafia')\n",
      "('Rock the Casbah (Remastered)', 'The Clash')\n",
      "('Rack', 'callmestevieray')\n",
      "('Rock Amadour', 'Gerard Blanchard')\n"
     ]
    }
   ],
   "source": [
    "import requests\n",
    "\n",
    "print(\"Lista de Reproducción\\n\")\n",
    "\n",
    "# Referencia: https://www.deezer.com/en/channels/explore\n",
    "\n",
    "print(\"Ingresa la palabra que te gustaría\") \n",
    "print(\"Ejemplo: 'rock', y obtendrás un playlist de canciones o artistas que incluyan la palabra rock\") \n",
    "\n",
    "word_to_search = input()\n",
    "\n",
    "url = \"https://deezerdevs-deezer.p.rapidapi.com/search\"\n",
    "querystring = {\"q\":word_to_search} \n",
    "headers = {  \"X-RapidAPI-Key\": \"3ed98f551fmshe4e6260228c4eadp13db17jsn8c893e1194da\",\n",
    "             \"X-RapidAPI-Host\": \"deezerdevs-deezer.p.rapidapi.com\"\n",
    "          } \n",
    "response = requests.request(\"GET\", url, headers=headers, params=querystring).json()\n",
    "for element in response['data']:\n",
    "    my_list = [element['title'], element['artist']['name']]\n",
    "    print(tuple(my_list))"
   ]
  },
  {
   "cell_type": "code",
   "execution_count": null,
   "id": "ddc5d8c3-e8b3-4e6b-85c0-bb91f27a0b83",
   "metadata": {},
   "outputs": [],
   "source": []
  }
 ],
 "metadata": {
  "kernelspec": {
   "display_name": "Python 3 (ipykernel)",
   "language": "python",
   "name": "python3"
  },
  "language_info": {
   "codemirror_mode": {
    "name": "ipython",
    "version": 3
   },
   "file_extension": ".py",
   "mimetype": "text/x-python",
   "name": "python",
   "nbconvert_exporter": "python",
   "pygments_lexer": "ipython3",
   "version": "3.11.4"
  }
 },
 "nbformat": 4,
 "nbformat_minor": 5
}

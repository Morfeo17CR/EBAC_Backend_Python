{
 "cells": [
  {
   "cell_type": "code",
   "execution_count": 1,
   "id": "ae2c483f-ae89-4e2e-94da-24cc3c46ecd7",
   "metadata": {},
   "outputs": [
    {
     "name": "stdout",
     "output_type": "stream",
     "text": [
      "stop1\n"
     ]
    }
   ],
   "source": [
    "import time\n",
    "\n",
    "def countdown(time_sec):\n",
    "    while time_sec:        \n",
    "        mins, secs = divmod(time_sec, 60)       \n",
    "        timeformat = '{:02d}:{:02d}'.format(mins, secs)       \n",
    "        print(timeformat, end='\\r')\n",
    "        time.sleep(1)\n",
    "        time_sec -= 1    \n",
    "        \n",
    "    print(\"stop\")\n",
    "countdown(90)"
   ]
  },
  {
   "cell_type": "code",
   "execution_count": 2,
   "id": "49f30fc7-40cd-476d-a150-7c6d62481cf9",
   "metadata": {},
   "outputs": [
    {
     "name": "stdout",
     "output_type": "stream",
     "text": [
      "Contador 2: 00:11Contador 1: 00:01Contador 2: 00:18Contador 3: 00:13Contador 1: 00:07Contador 3: 00:12Contador 3: 00:11Contador 1: 00:04Contador 3: 00:07Contador 2: 00:12Contador 2: 00:10Contador 1: stop\n",
      "Contador 3: stop5Contador 3: 00:04Contador 2: 00:08Contador 3: 00:03Contador 3: 00:02Contador 2: 00:07Contador 2: 00:06\n",
      "Contador 2: stop1\n",
      "Todos los contadores han terminado\n"
     ]
    }
   ],
   "source": [
    "import threading\n",
    "import time\n",
    "\n",
    "def countdown(thread_name, time_sec):\n",
    "    while time_sec:\n",
    "        mins, secs = divmod(time_sec, 60)\n",
    "        timeformat = '{:02d}:{:02d}'.format(mins, secs)\n",
    "        print(f\"{thread_name}: {timeformat}\", end='\\r')\n",
    "        time.sleep(1)\n",
    "        time_sec -= 1\n",
    "    print(f\"{thread_name}: stop\")\n",
    "\n",
    "thread1 = threading.Thread(target=countdown, args=(\"Contador 1\", 10))\n",
    "thread2 = threading.Thread(target=countdown, args=(\"Contador 2\", 20))\n",
    "thread3 = threading.Thread(target=countdown, args=(\"Contador 3\", 15))\n",
    "\n",
    "thread1.start()\n",
    "thread2.start()\n",
    "thread3.start()\n",
    "\n",
    "thread1.join()\n",
    "thread2.join()\n",
    "thread3.join()\n",
    "\n",
    "print(\"Todos los contadores han terminado\")"
   ]
  },
  {
   "cell_type": "markdown",
   "id": "545e0d7f-928b-427b-9a39-1afa132992b7",
   "metadata": {},
   "source": [
    "### Nevermind"
   ]
  },
  {
   "cell_type": "markdown",
   "id": "0bca5fbb-4138-4e0f-8986-5833a5c5a5ab",
   "metadata": {},
   "source": [
    "### aqui esta el codigo bien hecho"
   ]
  },
  {
   "cell_type": "code",
   "execution_count": 1,
   "id": "23500503-0dc4-4cb9-991e-f6816e717506",
   "metadata": {},
   "outputs": [
    {
     "name": "stdout",
     "output_type": "stream",
     "text": [
      "\n",
      "Menú:\n",
      "1. Agregar producto a la cesta\n",
      "2. Eliminar producto de la cesta\n",
      "3. Consultar productos en inventario\n",
      "4. Consultar productos en cesta\n",
      "5. Pagar\n",
      "6. Consultar historial de compras\n",
      "7. Salir del programa\n"
     ]
    },
    {
     "name": "stdin",
     "output_type": "stream",
     "text": [
      "Ingrese el número de la opción deseada:  1\n"
     ]
    },
    {
     "name": "stdout",
     "output_type": "stream",
     "text": [
      "\n",
      "Lista de productos disponibles:\n",
      "1. Tequila - Precio Unitario: $5.00 - \n",
      "2. Aguacate - Precio Unitario: $2.50 - \n",
      "3. Fresas - Precio Unitario: $3.00 - \n",
      "4. Cemento - Precio Unitario: $8.00 - \n",
      "5. Pegazulejo - Precio Unitario: $6.00 - \n",
      "6. Pescado crudo - Precio Unitario: $12.00 - \n",
      "7. Gasolina - Precio Unitario: $1.50 - \n",
      "8. Esferas - Precio Unitario: $4.00 - \n",
      "9. Cerveza - Precio Unitario: $2.00 - \n",
      "10. Elote - Precio Unitario: $1.00 - \n",
      "11. Plata - Precio Unitario: $50.00 - \n"
     ]
    },
    {
     "name": "stdin",
     "output_type": "stream",
     "text": [
      "Ingrese el número del producto que desea agregar a la cesta:  1\n",
      "Ingrese la cantidad a agregar a la cesta:  10\n"
     ]
    },
    {
     "name": "stdout",
     "output_type": "stream",
     "text": [
      "10 unidades de 'Tequila' agregadas a la cesta con éxito. Total en cesta: 10\n",
      "\n",
      "Menú:\n",
      "1. Agregar producto a la cesta\n",
      "2. Eliminar producto de la cesta\n",
      "3. Consultar productos en inventario\n",
      "4. Consultar productos en cesta\n",
      "5. Pagar\n",
      "6. Consultar historial de compras\n",
      "7. Salir del programa\n"
     ]
    },
    {
     "name": "stdin",
     "output_type": "stream",
     "text": [
      "Ingrese el número de la opción deseada:  2\n"
     ]
    },
    {
     "name": "stdout",
     "output_type": "stream",
     "text": [
      "\n",
      "Productos en cesta:\n",
      "1. Tequila - Cantidad: 10 - Precio Unitario: $5.00\n"
     ]
    },
    {
     "name": "stdin",
     "output_type": "stream",
     "text": [
      "Ingrese el número del producto que desea eliminar de la cesta:  1\n",
      "Ingrese la cantidad de 'Tequila' a eliminar de la cesta:  2\n"
     ]
    },
    {
     "name": "stdout",
     "output_type": "stream",
     "text": [
      "2 unidades de 'Tequila' eliminadas de la cesta con éxito. Total en cesta: 8\n",
      "\n",
      "Menú:\n",
      "1. Agregar producto a la cesta\n",
      "2. Eliminar producto de la cesta\n",
      "3. Consultar productos en inventario\n",
      "4. Consultar productos en cesta\n",
      "5. Pagar\n",
      "6. Consultar historial de compras\n",
      "7. Salir del programa\n"
     ]
    },
    {
     "name": "stdin",
     "output_type": "stream",
     "text": [
      "Ingrese el número de la opción deseada:  3\n"
     ]
    },
    {
     "name": "stdout",
     "output_type": "stream",
     "text": [
      "\n",
      "Inventario:\n",
      "Tequila - Cantidad: 2 - Precio Unitario: $5.00 - \n",
      "Aguacate - Cantidad: 5 - Precio Unitario: $2.50 - \n",
      "Fresas - Cantidad: 8 - Precio Unitario: $3.00 - \n",
      "Cemento - Cantidad: 15 - Precio Unitario: $8.00 - \n",
      "Pegazulejo - Cantidad: 20 - Precio Unitario: $6.00 - \n",
      "Pescado crudo - Cantidad: 12 - Precio Unitario: $12.00 - \n",
      "Gasolina - Cantidad: 30 - Precio Unitario: $1.50 - \n",
      "Esferas - Cantidad: 25 - Precio Unitario: $4.00 - \n",
      "Cerveza - Cantidad: 50 - Precio Unitario: $2.00 - \n",
      "Elote - Cantidad: 7 - Precio Unitario: $1.00 - \n",
      "Plata - Cantidad: 3 - Precio Unitario: $50.00 - \n",
      "\n",
      "\n",
      "\n",
      "Menú:\n",
      "1. Agregar producto a la cesta\n",
      "2. Eliminar producto de la cesta\n",
      "3. Consultar productos en inventario\n",
      "4. Consultar productos en cesta\n",
      "5. Pagar\n",
      "6. Consultar historial de compras\n",
      "7. Salir del programa\n"
     ]
    },
    {
     "name": "stdin",
     "output_type": "stream",
     "text": [
      "Ingrese el número de la opción deseada:  4\n"
     ]
    },
    {
     "name": "stdout",
     "output_type": "stream",
     "text": [
      "\n",
      "Productos en cesta:\n",
      "1. Tequila - Cantidad: 8 - Precio Unitario: $5.00\n",
      "\n",
      "\n",
      "\n",
      "Menú:\n",
      "1. Agregar producto a la cesta\n",
      "2. Eliminar producto de la cesta\n",
      "3. Consultar productos en inventario\n",
      "4. Consultar productos en cesta\n",
      "5. Pagar\n",
      "6. Consultar historial de compras\n",
      "7. Salir del programa\n"
     ]
    },
    {
     "name": "stdin",
     "output_type": "stream",
     "text": [
      "Ingrese el número de la opción deseada:  5\n"
     ]
    },
    {
     "name": "stdout",
     "output_type": "stream",
     "text": [
      "\n",
      "Opciones de Pago:\n",
      "1. Pagar\n",
      "2. Seguir comprando\n"
     ]
    },
    {
     "name": "stdin",
     "output_type": "stream",
     "text": [
      "Seleccione la opción de pago (1 o 2):  1\n"
     ]
    },
    {
     "name": "stdout",
     "output_type": "stream",
     "text": [
      "Pago realizado. Que tenga un buen día :)\n",
      "\n",
      "\n",
      "Menú:\n",
      "1. Agregar producto a la cesta\n",
      "2. Eliminar producto de la cesta\n",
      "3. Consultar productos en inventario\n",
      "4. Consultar productos en cesta\n",
      "5. Pagar\n",
      "6. Consultar historial de compras\n",
      "7. Salir del programa\n"
     ]
    },
    {
     "name": "stdin",
     "output_type": "stream",
     "text": [
      "Ingrese el número de la opción deseada:  6\n"
     ]
    },
    {
     "name": "stdout",
     "output_type": "stream",
     "text": [
      "\n",
      "Historial de Compras:\n",
      "Compra 1: Total Pagar: $40.00\n",
      "Productos:\n",
      "- Tequila - Cantidad: 8 - Precio Unitario: $5.00\n",
      "\n",
      "\n",
      "\n",
      "Menú:\n",
      "1. Agregar producto a la cesta\n",
      "2. Eliminar producto de la cesta\n",
      "3. Consultar productos en inventario\n",
      "4. Consultar productos en cesta\n",
      "5. Pagar\n",
      "6. Consultar historial de compras\n",
      "7. Salir del programa\n"
     ]
    },
    {
     "name": "stdin",
     "output_type": "stream",
     "text": [
      "Ingrese el número de la opción deseada:  7\n"
     ]
    },
    {
     "name": "stdout",
     "output_type": "stream",
     "text": [
      "Saliendo del programa. ¡Hasta luego!\n"
     ]
    }
   ],
   "source": [
    "import os\n",
    "\n",
    "productos = {\n",
    "    \"Tequila\": {\"cantidad\": 10, \"precio_unitario\": 5.0},\n",
    "    \"Aguacate\": {\"cantidad\": 5, \"precio_unitario\": 2.5},\n",
    "    \"Fresas\": {\"cantidad\": 8, \"precio_unitario\": 3.0},\n",
    "    \"Cemento\": {\"cantidad\": 15, \"precio_unitario\": 8.0},\n",
    "    \"Pegazulejo\": {\"cantidad\": 20, \"precio_unitario\": 6.0},\n",
    "    \"Pescado crudo\": {\"cantidad\": 12, \"precio_unitario\": 12.0},\n",
    "    \"Gasolina\": {\"cantidad\": 30, \"precio_unitario\": 1.5},\n",
    "    \"Esferas\": {\"cantidad\": 25, \"precio_unitario\": 4.0},\n",
    "    \"Cerveza\": {\"cantidad\": 50, \"precio_unitario\": 2.0},\n",
    "    \"Elote\": {\"cantidad\": 7, \"precio_unitario\": 1.0},\n",
    "    \"Plata\": {\"cantidad\": 3, \"precio_unitario\": 50.0}\n",
    "}\n",
    "\n",
    "productos_en_cesta = []\n",
    "historial_compras = []\n",
    "\n",
    "def agregar_producto(numero, cantidad):\n",
    "    if 1 <= numero <= len(productos):\n",
    "        nombre_producto = list(productos.keys())[numero - 1]\n",
    "        if nombre_producto in productos:\n",
    "            if cantidad <= productos[nombre_producto][\"cantidad\"]:\n",
    "                productos_en_cesta.append({\"nombre\": nombre_producto, \"cantidad\": cantidad, \"precio_unitario\": productos[nombre_producto][\"precio_unitario\"]})\n",
    "                productos[nombre_producto][\"cantidad\"] -= cantidad\n",
    "                print(f\"{cantidad} unidades de '{nombre_producto}' agregadas a la cesta con éxito. Total en cesta: {sum(item['cantidad'] for item in productos_en_cesta)}\")\n",
    "            else:\n",
    "                print(\"Limite superado. Intente con otra cantidad.\")\n",
    "        else:\n",
    "            print(f\"Producto '{nombre_producto}' no válido.\")\n",
    "    else:\n",
    "        print(\"Número de producto no válido.\")\n",
    "\n",
    "def eliminar_producto():\n",
    "    print(\"\\nProductos en cesta:\")\n",
    "    for i, producto in enumerate(productos_en_cesta, start=1):\n",
    "        print(f\"{i}. {producto['nombre']} - Cantidad: {producto['cantidad']} - Precio Unitario: ${producto['precio_unitario']:.2f}\")\n",
    "    \n",
    "    if not productos_en_cesta:\n",
    "        print(\"La cesta está vacía.\")\n",
    "        return\n",
    "\n",
    "    try:\n",
    "        numero_seleccionado = int(input(\"Ingrese el número del producto que desea eliminar de la cesta: \"))\n",
    "        if 1 <= numero_seleccionado <= len(productos_en_cesta):\n",
    "            producto_seleccionado = productos_en_cesta[numero_seleccionado - 1]\n",
    "            try:\n",
    "                cantidad_eliminar = int(input(f\"Ingrese la cantidad de '{producto_seleccionado['nombre']}' a eliminar de la cesta: \"))\n",
    "                if cantidad_eliminar <= producto_seleccionado[\"cantidad\"]:\n",
    "                    producto_seleccionado[\"cantidad\"] -= cantidad_eliminar\n",
    "                    productos[producto_seleccionado[\"nombre\"]][\"cantidad\"] += cantidad_eliminar\n",
    "                    print(f\"{cantidad_eliminar} unidades de '{producto_seleccionado['nombre']}' eliminadas de la cesta con éxito. Total en cesta: {sum(item['cantidad'] for item in productos_en_cesta)}\")\n",
    "                    if producto_seleccionado[\"cantidad\"] == 0:\n",
    "                        productos_en_cesta.remove(producto_seleccionado)\n",
    "                else:\n",
    "                    print(\"Limite superado. Intente con otra cantidad.\")\n",
    "            except ValueError:\n",
    "                print(\"Por favor, ingrese una cantidad válida.\")\n",
    "        else:\n",
    "            print(\"Número de producto no válido.\")\n",
    "    except ValueError:\n",
    "        print(\"Por favor, ingrese un número válido.\")\n",
    "\n",
    "def pagar():\n",
    "    print(\"\\nOpciones de Pago:\")\n",
    "    print(\"1. Pagar\")\n",
    "    print(\"2. Seguir comprando\")\n",
    "    opcion_pago = input(\"Seleccione la opción de pago (1 o 2): \")\n",
    "\n",
    "    if opcion_pago == '1':\n",
    "        total_pagar = sum(item[\"cantidad\"] * item[\"precio_unitario\"] for item in productos_en_cesta)\n",
    "        historial_compras.append({\"total_pagar\": total_pagar, \"productos\": list(productos_en_cesta)})\n",
    "        productos_en_cesta.clear()\n",
    "        print(\"Pago realizado. Que tenga un buen día :)\\n\")\n",
    "    elif opcion_pago == '2':\n",
    "        print(\"Continuando con la compra.\\n\")\n",
    "    else:\n",
    "        print(\"Opción no válida. Volviendo al menú principal.\\n\")\n",
    "\n",
    "def consultar_inventario():\n",
    "    print(\"\\nInventario:\")\n",
    "    for nombre, producto in productos.items():\n",
    "        estado_producto = \"Agotado\" if producto[\"cantidad\"] == 0 else \"\"\n",
    "        print(f\"{nombre} - Cantidad: {producto['cantidad']} - Precio Unitario: ${producto['precio_unitario']:.2f} - {estado_producto}\")\n",
    "    print(\"\\n\")\n",
    "\n",
    "def consultar_productos_en_cesta():\n",
    "    print(\"\\nProductos en cesta:\")\n",
    "    for i, producto in enumerate(productos_en_cesta, start=1):\n",
    "        print(f\"{i}. {producto['nombre']} - Cantidad: {producto['cantidad']} - Precio Unitario: ${producto['precio_unitario']:.2f}\")\n",
    "    print(\"\\n\")\n",
    "\n",
    "def consultar_historial():\n",
    "    print(\"\\nHistorial de Compras:\")\n",
    "    for i, compra in enumerate(historial_compras, start=1):\n",
    "        print(f\"Compra {i}: Total Pagar: ${compra['total_pagar']:.2f}\")\n",
    "        print(\"Productos:\")\n",
    "        for producto in compra[\"productos\"]:\n",
    "            print(f\"- {producto['nombre']} - Cantidad: {producto['cantidad']} - Precio Unitario: ${producto['precio_unitario']:.2f}\")\n",
    "        print(\"\\n\")\n",
    "\n",
    "while True:\n",
    "    print(\"\\nMenú:\")\n",
    "    print(\"1. Agregar producto a la cesta\")\n",
    "    print(\"2. Eliminar producto de la cesta\")\n",
    "    print(\"3. Consultar productos en inventario\")\n",
    "    print(\"4. Consultar productos en cesta\")\n",
    "    print(\"5. Pagar\")\n",
    "    print(\"6. Consultar historial de compras\")\n",
    "    print(\"7. Salir del programa\")\n",
    "    opcion = input(\"Ingrese el número de la opción deseada: \")\n",
    "\n",
    "    if opcion == '1':\n",
    "        print(\"\\nLista de productos disponibles:\")\n",
    "        for i, nombre in enumerate(productos.keys(), start=1):\n",
    "            estado_producto = \"Agotado\" if productos[nombre][\"cantidad\"] == 0 else \"\"\n",
    "            print(f\"{i}. {nombre} - Precio Unitario: ${productos[nombre]['precio_unitario']:.2f} - {estado_producto}\")\n",
    "        try:\n",
    "            numero_seleccionado = int(input(\"Ingrese el número del producto que desea agregar a la cesta: \"))\n",
    "            cantidad_agregar = int(input(\"Ingrese la cantidad a agregar a la cesta: \"))\n",
    "            agregar_producto(numero_seleccionado, cantidad_agregar)\n",
    "            os.system(\"PAUSE\")\n",
    "        except ValueError:\n",
    "            print(\"Por favor, ingrese un número válido.\")\n",
    "            os.system(\"PAUSE\")\n",
    "    elif opcion == '2':\n",
    "        eliminar_producto()\n",
    "        os.system(\"PAUSE\")\n",
    "    elif opcion == '3':\n",
    "        consultar_inventario()\n",
    "        os.system(\"PAUSE\")\n",
    "    elif opcion == '4':\n",
    "        consultar_productos_en_cesta()\n",
    "        os.system(\"PAUSE\")\n",
    "    elif opcion == '5':\n",
    "        pagar()\n",
    "        os.system(\"PAUSE\")\n",
    "    elif opcion == '6':\n",
    "        consultar_historial()\n",
    "        os.system(\"PAUSE\")\n",
    "    elif opcion == '7':\n",
    "        print(\"Saliendo del programa. ¡Hasta luego!\")\n",
    "        break\n",
    "    else:\n",
    "        print(\"Opción no válida. Intente de nuevo.\")\n",
    "        os.system(\"PAUSE\")\n",
    "\n",
    "    os.system('cls')"
   ]
  },
  {
   "cell_type": "code",
   "execution_count": null,
   "id": "5f2c4296-8636-44b7-b137-928743c9b4d3",
   "metadata": {},
   "outputs": [],
   "source": []
  }
 ],
 "metadata": {
  "kernelspec": {
   "display_name": "Python 3 (ipykernel)",
   "language": "python",
   "name": "python3"
  },
  "language_info": {
   "codemirror_mode": {
    "name": "ipython",
    "version": 3
   },
   "file_extension": ".py",
   "mimetype": "text/x-python",
   "name": "python",
   "nbconvert_exporter": "python",
   "pygments_lexer": "ipython3",
   "version": "3.11.4"
  }
 },
 "nbformat": 4,
 "nbformat_minor": 5
}

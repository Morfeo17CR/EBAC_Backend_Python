{
 "cells": [
  {
   "cell_type": "code",
   "execution_count": 1,
   "id": "f734c925-691b-4434-9e3b-14a1e1cda117",
   "metadata": {},
   "outputs": [
    {
     "name": "stdout",
     "output_type": "stream",
     "text": [
      "{'2BB2', '4CCC', '666B', '7D77', 'A22A', '9999', '22C2', 'DDD0', '2CCC', 'D7DD', '0CCC', '1AAA', '333C', 'D2DD', 'DD3D', '0B00', '3BB3', 'CC22', '888B', 'AA3A', '11A1', '33DD', '3BBB', 'CCC1', '33AA', 'B555', 'C4CC', 'BB7B', '00BB', 'AA1A', '44C4', 'B99B', 'CC0C', 'C77C', 'CC55', '55AA', '00DD', '444D', '5DDD', 'C444', '99B9', 'A9AA', 'C0CC', 'C44C', 'BB99', '5A55', 'BB00', '0AAA', 'D44D', '6A66', '6AAA', '44BB', '5DD5', 'C11C', '8AA8', '222B', '0D00', '3333', 'C7CC', '33CC', 'AA6A', 'CCC2', 'A999', 'DDD2', '5CCC', '8B88', 'DD55', '11DD', '22B2', 'B4BB', '44D4', '77DD', 'D77D', 'A1AA', 'AA7A', 'CC1C', '1CCC', 'C88C', '99BB', 'D00D', 'C33C', '7777', 'D999', 'DDD9', 'AAA6', 'A000', 'BB77', '5BBB', 'DD2D', '9B99', '33B3', 'AA22', '1111', 'B333', 'C99C', 'BB6B', 'CC3C', '8DD8', 'CC4C', '9CCC', 'A77A', '8DDD', '999B', 'BBB6', 'CCC5', 'CC77', '6DD6', '88A8', 'B6BB', '88BB', 'AAA0', '444B', '3B33', '3DD3', '999D', 'A44A', 'BBB1', '44A4', '555A', '1A11', '1C11', '2AA2', 'AAA9', '3A33', '55B5', 'D6DD', '11AA', '1B11', 'DDD7', 'AAA7', 'DD5D', '666D', 'BB9B', 'C5CC', 'DD7D', 'CCC3', 'D555', '2DD2', '6D66', 'DDD3', 'BB1B', 'BBB5', 'B0BB', '4CC4', 'A555', '8BBB', 'A99A', 'DD99', '33A3', '9C99', '666C', '9A99', '5AA5', 'AA99', '55DD', 'B77B', '7A77', '11CC', '55BB', 'CCC4', 'AA9A', '777D', '6CCC', 'BB0B', '6BB6', 'CC8C', '111C', '8D88', 'C111', '333A', 'C3CC', 'BBB0', '77B7', 'BBB7', '9DD9', 'AA55', '888C', '22AA', 'D88D', '4BB4', 'B5BB', '8888', '9BBB', 'D0DD', '4BBB', '7C77', 'D99D', 'C00C', 'D11D', 'DD9D', '0DDD', '7DD7', '55D5', 'B444', '777C', 'B8BB', '99CC', '7CCC', 'A888', '888A', '00A0', 'B44B', '0DD0', '77BB', '1DD1', '33D3', 'B666', '9D99', 'C66C', 'AAA3', 'B7BB', '55C5', 'B2BB', 'C9CC', 'B55B', '44AA', '444C', '88AA', '444A', 'A0AA', '888D', '8CCC', '2CC2', 'CCC6', '55A5', '000D', '777A', 'BBB8', 'AA2A', 'B222', '77D7', '666A', '22D2', 'DDD6', 'DD0D', 'A777', '555B', 'A33A', '44DD', '33C3', '4B44', '6DDD', 'C6CC', 'D111', 'CC2C', 'D888', 'BB2B', '1BB1', 'AA5A', '88B8', 'B00B', 'A66A', '00AA', 'D5DD', '11B1', '8C88', 'AA66', '4A44', '5BB5', '333D', '1D11', 'D444', 'C22C', 'AA44', '8A88', 'D66D', '88CC', 'DD33', '6B66', '66CC', 'AAA2', 'DD1D', 'DDD5', '22DD', '5555', 'D22D', 'B999', '22A2', '3CC3', 'B000', 'AA4A', 'AAA5', '5AAA', '5B55', 'B66B', 'A5AA', 'D8DD', 'DDD8', '222C', 'D1DD', '88D8', '6666', 'DD88', '5C55', 'DD6D', 'D777', 'AA33', '1CC1', 'A222', 'C1CC', '111D', '222A', '11C1', 'CC6C', 'AA00', '44CC', 'A444', '66D6', 'D222', 'BB4B', '00CC', '9AAA', 'C8CC', 'AA0A', '66AA', '2AAA', 'A2AA', 'A3AA', 'BB66', 'C333', '00C0', 'A6AA', 'B11B', '6C66', '3DDD', '5D55', '4AAA', '000A', '2BBB', 'BB44', '1DDD', 'D666', '77C7', '3AA3', 'BB33', 'C777', 'C666', 'D4DD', '4D44', 'BB3B', 'DD4D', '000C', 'A8AA', '4C44', '3AAA', 'B9BB', '66C6', 'D33D', 'C55C', '1AA1', 'BBB2', 'DD8D', 'CCC7', 'AA77', 'B1BB', 'CC44', '111A', '0BBB', 'CC5C', '99AA', '4DD4', 'DD77', '7B77', 'CC88', 'CC99', '6BBB', 'AA11', '8BB8', '2B22', '55CC', '00D0', '7DDD', '8AAA', '555C', '0BB0', '222D', 'A111', 'DD11', 'BB22', 'C888', '7BBB', '66B6', '2DDD', '22BB', '7CC7', '66DD', 'BBB3', 'D9DD', 'BB8B', '9BB9', 'AA8A', 'B33B', 'B88B', 'BBB4', '5CC5', '00B0', 'A55A', 'CC7C', 'DD44', 'C999', '6CC6', '999C', '33BB', 'BB88', 'CC66', 'C2CC', 'D55D', 'B888', 'D000', 'AAA4', 'DD22', '88C8', '99C9', '22CC', 'CCC8', '0A00', 'AA88', '0AA0', 'A00A', '11BB', '44B4', 'BB5B', '333B', '99D9', '0CC0', '3D33', 'A333', '99A9', '77A7', 'AAA1', '777B', 'CC11', 'A666', '999A', '99DD', '1BBB', '2C22', 'D333', '77AA', '3C33', 'DD66', 'DDD4', 'A11A', '88DD', '4DDD', '2D22', 'BB55', '7BB7', 'AAA8', '9DDD', '6AA6', 'BBB9', 'D3DD', 'CCC9', '9CC9', 'BB11', 'C000', '3CCC', 'B777', 'C555', 'DD00', 'A7AA', '555D', '77CC', 'B3BB', '66A6', '11D1', 'B111', 'CC33', 'CC00', 'B22B', '7AAA', '8CC8', '7AA7', '000B', '4AA4', '111B', 'A88A', '0C00', 'A4AA', '9AA9', '0000', 'CCC0', '2A22', 'DDD1', 'CC9C', '66BB', 'C222', '2222', '4444'}\n"
     ]
    }
   ],
   "source": [
    "numbers = ['0', '1', '2', '3', '4', '5', '6', '7', '8', '9']\n",
    "letters = ['A', 'B', 'C', 'D'] \n",
    "\n",
    "unique_combinations = set()\n",
    "for number in numbers:\n",
    "    for letter in letters:        \n",
    "        unique_combinations.add(\"{}{}{}{}\".format(number,number,number,number))\n",
    "        unique_combinations.add(\"{}{}{}{}\".format(number,number,number,letter))\n",
    "        unique_combinations.add(\"{}{}{}{}\".format(number,number,letter,number))        \n",
    "        unique_combinations.add(\"{}{}{}{}\".format(number,letter,number,number))        \n",
    "        unique_combinations.add(\"{}{}{}{}\".format(letter,number,number,number))\n",
    "        unique_combinations.add(\"{}{}{}{}\".format(number,number,letter,letter))\n",
    "        unique_combinations.add(\"{}{}{}{}\".format(number,letter,letter,number))\n",
    "        unique_combinations.add(\"{}{}{}{}\".format(letter,letter,number,number))\n",
    "        unique_combinations.add(\"{}{}{}{}\".format(letter,letter,letter,number))\n",
    "        unique_combinations.add(\"{}{}{}{}\".format(letter,letter,number,letter))\n",
    "        unique_combinations.add(\"{}{}{}{}\".format(number,letter,letter,letter))\n",
    "        unique_combinations.add(\"{}{}{}{}\".format(letter,letter,number,number))\n",
    "        unique_combinations.add(\"{}{}{}{}\".format(letter,number,number,letter))\n",
    "        unique_combinations.add(\"{}{}{}{}\".format(letter,number,letter,letter))\n",
    "        \n",
    "\n",
    "print(unique_combinations)"
   ]
  },
  {
   "cell_type": "code",
   "execution_count": null,
   "id": "844244e7-e108-4fb6-9fc7-ccb9cb8ead05",
   "metadata": {},
   "outputs": [],
   "source": []
  }
 ],
 "metadata": {
  "kernelspec": {
   "display_name": "Python 3 (ipykernel)",
   "language": "python",
   "name": "python3"
  },
  "language_info": {
   "codemirror_mode": {
    "name": "ipython",
    "version": 3
   },
   "file_extension": ".py",
   "mimetype": "text/x-python",
   "name": "python",
   "nbconvert_exporter": "python",
   "pygments_lexer": "ipython3",
   "version": "3.11.4"
  }
 },
 "nbformat": 4,
 "nbformat_minor": 5
}

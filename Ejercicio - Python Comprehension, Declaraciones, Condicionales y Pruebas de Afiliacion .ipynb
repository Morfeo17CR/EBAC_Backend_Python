{
 "cells": [
  {
   "cell_type": "code",
   "execution_count": null,
   "id": "36b0bed5-902f-4532-8e30-a8a3e30bfbbe",
   "metadata": {},
   "outputs": [],
   "source": [
    "import requests \n",
    "\n",
    "print(\"Lista de Reproducción\\n\")\n",
    "\n",
    "# Referencia: https://www.deezer.com/en/channels/explore\n",
    "\n",
    "print(\"Ingresa la palabra que te gustaría\") \n",
    "print(\"Ejemplo: 'rock', y obtendrás un playlist de canciones o artistas que incluyan la palabra rock\")\n",
    "word_to_search = input() \n",
    "url = \"https://deezerdevs-deezer.p.rapidapi.com/search\" \n",
    "querystring = {\"q\":word_to_search} \n",
    "headers = {  \"X-RapidAPI-Key\": \"3ed98f551fmshe4e6260228c4eadp13db17jsn8c893e1194da\",    \n",
    "             \"X-RapidAPI-Host\": \"deezerdevs-deezer.p.rapidapi.com\"\n",
    "} \n",
    "response = requests.request(\"GET\", url, headers=headers, params=querystring).json()\n",
    "\n",
    "my_list = [] \n",
    "for element in response['data']:\n",
    "    my_list.append([element['title'], element['artist']['name']])\n",
    "my_list = \"{},{}\".format('title','artist' or 'name')\n",
    "print(my_list)"
   ]
  },
  {
   "cell_type": "code",
   "execution_count": 22,
   "id": "394a8ced-0b9b-4a2c-806e-4942d6ad6fba",
   "metadata": {},
   "outputs": [
    {
     "name": "stdout",
     "output_type": "stream",
     "text": [
      "Lista de Reproducción\n",
      "\n",
      "Ingresa la palabra que te gustaría\n",
      "Ejemplo: 'rock', y obtendrás un playlist de canciones o artistas que incluyan la palabra rock\n"
     ]
    },
    {
     "name": "stdin",
     "output_type": "stream",
     "text": [
      " sweet dreams\n"
     ]
    },
    {
     "name": "stdout",
     "output_type": "stream",
     "text": [
      "1 \t{ Sweet Dreams : RAVENS ROCK }\n",
      "2 \t{ Sweet Dreams (Are Made of This) (Remastered) : Eurythmics }\n",
      "3 \t{ Sweet Dream : Alessia Cara }\n",
      "4 \t{ Sweet Dreams (Sky like Dreams) : Ferdinand fka Left Boy }\n",
      "5 \t{ Street Dreams : Nas }\n",
      "6 \t{ Sweet Dreams (Are Made of This) : Eurythmics }\n",
      "7 \t{ Sweet dream : RIOPY }\n",
      "8 \t{ Sweet Dreams (Are Made Of This) : Marilyn Manson }\n",
      "9 \t{ wet dreams : CHAMELEO }\n"
     ]
    }
   ],
   "source": [
    "import requests \n",
    "\n",
    "print(\"Lista de Reproducción\\n\")\n",
    "\n",
    "# Referencia: https://www.deezer.com/en/channels/explore\n",
    "\n",
    "print(\"Ingresa la palabra que te gustaría\") \n",
    "print(\"Ejemplo: 'rock', y obtendrás un playlist de canciones o artistas que incluyan la palabra rock\")\n",
    "word_to_search = input() \n",
    "url = \"https://deezerdevs-deezer.p.rapidapi.com/search\" \n",
    "querystring = {\"q\":word_to_search} \n",
    "headers = {  \"X-RapidAPI-Key\": \"3ed98f551fmshe4e6260228c4eadp13db17jsn8c893e1194da\",    \n",
    "             \"X-RapidAPI-Host\": \"deezerdevs-deezer.p.rapidapi.com\"\n",
    "} \n",
    "response = requests.request(\"GET\", url, headers=headers, params=querystring).json()\n",
    "num = 1\n",
    "my_list = [] \n",
    "for element in response['data']:\n",
    "    my_list.append([element['title'], element['artist']['name']])\n",
    "dic = dict(my_list)\n",
    "for key, value in dic.items():\n",
    "    print(num,\"\\t{\",f\"{key} : {value}\",\"}\")\n",
    "    num+=1"
   ]
  },
  {
   "cell_type": "code",
   "execution_count": null,
   "id": "06b56627-cdb0-4264-afe4-ffe88f0cd507",
   "metadata": {},
   "outputs": [],
   "source": []
  }
 ],
 "metadata": {
  "kernelspec": {
   "display_name": "Python 3 (ipykernel)",
   "language": "python",
   "name": "python3"
  },
  "language_info": {
   "codemirror_mode": {
    "name": "ipython",
    "version": 3
   },
   "file_extension": ".py",
   "mimetype": "text/x-python",
   "name": "python",
   "nbconvert_exporter": "python",
   "pygments_lexer": "ipython3",
   "version": "3.11.4"
  }
 },
 "nbformat": 4,
 "nbformat_minor": 5
}

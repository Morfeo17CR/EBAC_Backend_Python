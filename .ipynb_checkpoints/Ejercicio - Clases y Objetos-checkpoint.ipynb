{
 "cells": [
  {
   "cell_type": "code",
   "execution_count": 1,
   "id": "992a10dd-2878-4626-ab38-2a399b643d25",
   "metadata": {},
   "outputs": [
    {
     "name": "stdout",
     "output_type": "stream",
     "text": [
      "\n",
      "1. Mostrar productos disponibles\n",
      "2. Agregar producto al carrito\n",
      "3. Realizar compra\n",
      "4. Salir\n"
     ]
    },
    {
     "name": "stdin",
     "output_type": "stream",
     "text": [
      "Seleccione una opción:  1\n"
     ]
    },
    {
     "name": "stdout",
     "output_type": "stream",
     "text": [
      "Nombre: Camiseta\n",
      "Precio: $20\n",
      "Cantidad Disponible: 50 unidades\n",
      "Nombre: Laptop\n",
      "Precio: $1200\n",
      "Cantidad Disponible: 10 unidades\n",
      "\n",
      "1. Mostrar productos disponibles\n",
      "2. Agregar producto al carrito\n",
      "3. Realizar compra\n",
      "4. Salir\n"
     ]
    },
    {
     "name": "stdin",
     "output_type": "stream",
     "text": [
      "Seleccione una opción:  2\n"
     ]
    },
    {
     "name": "stdout",
     "output_type": "stream",
     "text": [
      "\n",
      "Productos disponibles:\n",
      "Nombre: Camiseta\n",
      "Precio: $20\n",
      "Cantidad Disponible: 50 unidades\n",
      "Nombre: Laptop\n",
      "Precio: $1200\n",
      "Cantidad Disponible: 10 unidades\n"
     ]
    },
    {
     "name": "stdin",
     "output_type": "stream",
     "text": [
      "Seleccione el producto por su nombre (e.g., Laptop):  Camiseta\n",
      "Ingrese la cantidad a agregar al carrito:  51\n"
     ]
    },
    {
     "name": "stdout",
     "output_type": "stream",
     "text": [
      "Límite de unidades superado. Disponibles: 50 unidades.\n",
      "\n",
      "1. Mostrar productos disponibles\n",
      "2. Agregar producto al carrito\n",
      "3. Realizar compra\n",
      "4. Salir\n"
     ]
    },
    {
     "name": "stdin",
     "output_type": "stream",
     "text": [
      "Seleccione una opción:  2\n"
     ]
    },
    {
     "name": "stdout",
     "output_type": "stream",
     "text": [
      "\n",
      "Productos disponibles:\n",
      "Nombre: Camiseta\n",
      "Precio: $20\n",
      "Cantidad Disponible: 50 unidades\n",
      "Nombre: Laptop\n",
      "Precio: $1200\n",
      "Cantidad Disponible: 10 unidades\n"
     ]
    },
    {
     "name": "stdin",
     "output_type": "stream",
     "text": [
      "Seleccione el producto por su nombre (e.g., Laptop):  Camiseta\n",
      "Ingrese la cantidad a agregar al carrito:  10\n"
     ]
    },
    {
     "name": "stdout",
     "output_type": "stream",
     "text": [
      "10 unidades de Camiseta agregadas al carrito.\n",
      "\n",
      "1. Mostrar productos disponibles\n",
      "2. Agregar producto al carrito\n",
      "3. Realizar compra\n",
      "4. Salir\n"
     ]
    },
    {
     "name": "stdin",
     "output_type": "stream",
     "text": [
      "Seleccione una opción:  2\n"
     ]
    },
    {
     "name": "stdout",
     "output_type": "stream",
     "text": [
      "\n",
      "Productos disponibles:\n",
      "Nombre: Camiseta\n",
      "Precio: $20\n",
      "Cantidad Disponible: 50 unidades\n",
      "Nombre: Laptop\n",
      "Precio: $1200\n",
      "Cantidad Disponible: 10 unidades\n"
     ]
    },
    {
     "name": "stdin",
     "output_type": "stream",
     "text": [
      "Seleccione el producto por su nombre (e.g., Laptop):  Laptop\n",
      "Ingrese la cantidad a agregar al carrito:  1\n"
     ]
    },
    {
     "name": "stdout",
     "output_type": "stream",
     "text": [
      "1 unidades de Laptop agregadas al carrito.\n",
      "\n",
      "1. Mostrar productos disponibles\n",
      "2. Agregar producto al carrito\n",
      "3. Realizar compra\n",
      "4. Salir\n"
     ]
    },
    {
     "name": "stdin",
     "output_type": "stream",
     "text": [
      "Seleccione una opción:  3\n"
     ]
    },
    {
     "name": "stdout",
     "output_type": "stream",
     "text": [
      "\n",
      "Productos en el carrito:\n",
      "Camiseta - 10 unidades - Subtotal: $200\n",
      "Laptop - 1 unidades - Subtotal: $1200\n",
      "\n",
      "Total a pagar: $1400\n"
     ]
    },
    {
     "name": "stdin",
     "output_type": "stream",
     "text": [
      "¿Desea confirmar la compra? (s/n):  s\n"
     ]
    },
    {
     "name": "stdout",
     "output_type": "stream",
     "text": [
      "¡Compra realizada con éxito!\n",
      "10 unidades de Camiseta vendidas.\n",
      "1 unidades de Laptop vendidas.\n",
      "\n",
      "1. Mostrar productos disponibles\n",
      "2. Agregar producto al carrito\n",
      "3. Realizar compra\n",
      "4. Salir\n"
     ]
    },
    {
     "name": "stdin",
     "output_type": "stream",
     "text": [
      "Seleccione una opción:  1\n"
     ]
    },
    {
     "name": "stdout",
     "output_type": "stream",
     "text": [
      "Nombre: Camiseta\n",
      "Precio: $20\n",
      "Cantidad Disponible: 40 unidades\n",
      "Nombre: Laptop\n",
      "Precio: $1200\n",
      "Cantidad Disponible: 9 unidades\n",
      "\n",
      "1. Mostrar productos disponibles\n",
      "2. Agregar producto al carrito\n",
      "3. Realizar compra\n",
      "4. Salir\n"
     ]
    },
    {
     "name": "stdin",
     "output_type": "stream",
     "text": [
      "Seleccione una opción:  4\n"
     ]
    },
    {
     "name": "stdout",
     "output_type": "stream",
     "text": [
      "¡Gracias por usar el sistema de compras!\n"
     ]
    }
   ],
   "source": [
    "class Producto:\n",
    "    def __init__(self, nombre, precio, cantidad_disponible):\n",
    "        self.nombre = nombre\n",
    "        self.precio = precio\n",
    "        self.cantidad_disponible = cantidad_disponible\n",
    "\n",
    "    def mostrar_informacion(self):\n",
    "        print(f\"Nombre: {self.nombre}\")\n",
    "        print(f\"Precio: ${self.precio}\")\n",
    "        print(f\"Cantidad Disponible: {self.cantidad_disponible} unidades\")\n",
    "\n",
    "    def actualizar_precio(self, nuevo_precio):\n",
    "        self.precio = nuevo_precio\n",
    "        print(f\"Precio actualizado a ${self.precio}\")\n",
    "\n",
    "    def vender_producto(self, cantidad_vendida):\n",
    "        if cantidad_vendida <= self.cantidad_disponible:\n",
    "            self.cantidad_disponible -= cantidad_vendida\n",
    "            print(f\"{cantidad_vendida} unidades de {self.nombre} vendidas.\")\n",
    "        else:\n",
    "            print(f\"Límite de unidades superado. Disponibles: {self.cantidad_disponible} unidades.\")\n",
    "\n",
    "class ProductoElectronico(Producto):\n",
    "    def __init__(self, nombre, precio, cantidad_disponible, marca, garantia):\n",
    "        super().__init__(nombre, precio, cantidad_disponible)\n",
    "        self.marca = marca\n",
    "        self.garantia = garantia\n",
    "\n",
    "    def extender_garantia(self, meses):\n",
    "        self.garantia += meses\n",
    "        print(f\"Garantía extendida a {self.garantia} meses.\")\n",
    "\n",
    "class Carrito:\n",
    "    def __init__(self):\n",
    "        self.productos_en_carrito = []\n",
    "\n",
    "    def agregar_al_carrito(self, producto, cantidad):\n",
    "        if cantidad <= producto.cantidad_disponible:\n",
    "            self.productos_en_carrito.append({\"producto\": producto, \"cantidad\": cantidad})\n",
    "            print(f\"{cantidad} unidades de {producto.nombre} agregadas al carrito.\")\n",
    "        else:\n",
    "            print(f\"Límite de unidades superado. Disponibles: {producto.cantidad_disponible} unidades.\")\n",
    "\n",
    "    def realizar_compra(self):\n",
    "        total = 0\n",
    "        print(\"\\nProductos en el carrito:\")\n",
    "        for item in self.productos_en_carrito:\n",
    "            producto = item[\"producto\"]\n",
    "            cantidad = item[\"cantidad\"]\n",
    "            total += producto.precio * cantidad\n",
    "            print(f\"{producto.nombre} - {cantidad} unidades - Subtotal: ${producto.precio * cantidad}\")\n",
    "\n",
    "        print(f\"\\nTotal a pagar: ${total}\")\n",
    "        confirmar = input(\"¿Desea confirmar la compra? (s/n): \").lower()\n",
    "\n",
    "        if confirmar == 's':\n",
    "            print(\"¡Compra realizada con éxito!\")\n",
    "            for item in self.productos_en_carrito:\n",
    "                producto = item[\"producto\"]\n",
    "                cantidad = item[\"cantidad\"]\n",
    "                producto.vender_producto(cantidad)\n",
    "            self.productos_en_carrito = []  # Limpiar el carrito después de la compra\n",
    "        else:\n",
    "            print(\"Compra cancelada.\")\n",
    "\n",
    "# Crear instancias de productos\n",
    "producto_1 = Producto(\"Camiseta\", 20, 50)\n",
    "producto_2 = ProductoElectronico(\"Laptop\", 1200, 10, \"Dell\", 12)\n",
    "\n",
    "# Crear instancia del carrito\n",
    "carrito = Carrito()\n",
    "\n",
    "# Menú principal\n",
    "while True:\n",
    "    print(\"\\n1. Mostrar productos disponibles\")\n",
    "    print(\"2. Agregar producto al carrito\")\n",
    "    print(\"3. Realizar compra\")\n",
    "    print(\"4. Salir\")\n",
    "\n",
    "    opcion = input(\"Seleccione una opción: \")\n",
    "\n",
    "    if opcion == '1':\n",
    "        # Mostrar productos disponibles\n",
    "        producto_1.mostrar_informacion()\n",
    "        producto_2.mostrar_informacion()\n",
    "\n",
    "    elif opcion == '2':\n",
    "        # Agregar producto al carrito\n",
    "        print(\"\\nProductos disponibles:\")\n",
    "        producto_1.mostrar_informacion()\n",
    "        producto_2.mostrar_informacion()\n",
    "\n",
    "        producto_id = input(\"Seleccione el producto por su nombre (e.g., Laptop): \")\n",
    "        cantidad = int(input(\"Ingrese la cantidad a agregar al carrito: \"))\n",
    "\n",
    "        if producto_id.lower() == 'camiseta':\n",
    "            carrito.agregar_al_carrito(producto_1, cantidad)\n",
    "        elif producto_id.lower() == 'laptop':\n",
    "            carrito.agregar_al_carrito(producto_2, cantidad)\n",
    "        else:\n",
    "            print(\"Producto no encontrado.\")\n",
    "\n",
    "    elif opcion == '3':\n",
    "        # Realizar compra\n",
    "        carrito.realizar_compra()\n",
    "\n",
    "    elif opcion == '4':\n",
    "        # Salir del programa\n",
    "        print(\"¡Gracias por usar el sistema de compras!\")\n",
    "        break\n",
    "\n",
    "    else:\n",
    "        print(\"Opción no válida. Intente nuevamente.\")"
   ]
  },
  {
   "cell_type": "code",
   "execution_count": null,
   "id": "3b5d1c9f-68fe-400e-8dd3-9e916b285cc1",
   "metadata": {},
   "outputs": [],
   "source": []
  }
 ],
 "metadata": {
  "kernelspec": {
   "display_name": "Python 3 (ipykernel)",
   "language": "python",
   "name": "python3"
  },
  "language_info": {
   "codemirror_mode": {
    "name": "ipython",
    "version": 3
   },
   "file_extension": ".py",
   "mimetype": "text/x-python",
   "name": "python",
   "nbconvert_exporter": "python",
   "pygments_lexer": "ipython3",
   "version": "3.11.4"
  }
 },
 "nbformat": 4,
 "nbformat_minor": 5
}

{
 "cells": [
  {
   "cell_type": "markdown",
   "id": "fa80660e-a8bd-4324-b819-b82a8ad334ec",
   "metadata": {},
   "source": [
    "### Diferentes formas de crear Tuplas"
   ]
  },
  {
   "cell_type": "code",
   "execution_count": 2,
   "id": "968d524f-a879-4cc2-b6ad-b74cab8070b1",
   "metadata": {},
   "outputs": [
    {
     "name": "stdout",
     "output_type": "stream",
     "text": [
      "<class 'tuple'>\n",
      "('carlos', 'Test', 3000, 15.79)\n"
     ]
    }
   ],
   "source": [
    "my_tuple = (\"carlos\", \"Test\" , 3000, 15.79)\n",
    "print(type(my_tuple))\n",
    "print(my_tuple)"
   ]
  },
  {
   "cell_type": "code",
   "execution_count": 3,
   "id": "062879aa-20df-40ce-a8d1-c8b1c01231d4",
   "metadata": {},
   "outputs": [
    {
     "name": "stdout",
     "output_type": "stream",
     "text": [
      "<class 'tuple'>\n",
      "('carlos', 'Test', 3000, 15.79)\n"
     ]
    }
   ],
   "source": [
    "my_tuple = \"carlos\", \"Test\" , 3000, 15.79\n",
    "print(type(my_tuple))\n",
    "print(my_tuple)"
   ]
  },
  {
   "cell_type": "code",
   "execution_count": 5,
   "id": "e836f609-37eb-4bfc-be21-1f1916a96209",
   "metadata": {},
   "outputs": [
    {
     "name": "stdout",
     "output_type": "stream",
     "text": [
      "<class 'tuple'>\n",
      "(100, 200, 300, 400, 500)\n"
     ]
    }
   ],
   "source": [
    "my_list = [100,200,300,400,500]\n",
    "my_tuple = tuple(my_list)\n",
    "print(type(my_tuple))\n",
    "print(my_tuple)"
   ]
  },
  {
   "cell_type": "markdown",
   "id": "6bf0c358-166f-4582-a3d8-9f94a65baa41",
   "metadata": {},
   "source": [
    "### Metodo sort en tuplas"
   ]
  },
  {
   "cell_type": "code",
   "execution_count": 7,
   "id": "fe4b997d-7b6a-4c82-bd49-faf5f255d85f",
   "metadata": {},
   "outputs": [
    {
     "name": "stdout",
     "output_type": "stream",
     "text": [
      "<class 'tuple'>\n",
      "(5, 4, 2, 7, 9, 0, 1)\n",
      "<class 'list'>\n",
      "[0, 1, 2, 4, 5, 7, 9]\n",
      "<class 'tuple'>\n",
      "(0, 1, 2, 4, 5, 7, 9)\n"
     ]
    }
   ],
   "source": [
    "my_tuple = (5, 4, 2, 7, 9, 0, 1)\n",
    "MST = sorted(my_tuple)\n",
    "MST2 = tuple(sorted(my_tuple))\n",
    "\n",
    "print(type(my_tuple))\n",
    "print(my_tuple)\n",
    "\n",
    "print(type(MST))\n",
    "print(MST)      \n",
    "\n",
    "print(type(MST2))\n",
    "print(MST2)      "
   ]
  },
  {
   "cell_type": "markdown",
   "id": "c45dfeaf-37f5-4ca4-a928-7507501247a9",
   "metadata": {},
   "source": [
    "### Metodo all en tuplas"
   ]
  },
  {
   "cell_type": "code",
   "execution_count": 9,
   "id": "c5a7b5b5-8059-4c53-98e3-ee5a851bf828",
   "metadata": {},
   "outputs": [
    {
     "name": "stdout",
     "output_type": "stream",
     "text": [
      "True\n"
     ]
    }
   ],
   "source": [
    "MyT = (5, 4, 2, 7, 9, 2, 1)\n",
    "print(all(MyT))"
   ]
  },
  {
   "cell_type": "code",
   "execution_count": 10,
   "id": "13988b86-9d41-44a1-b41c-a9c1ebf7d107",
   "metadata": {},
   "outputs": [
    {
     "name": "stdout",
     "output_type": "stream",
     "text": [
      "False\n"
     ]
    }
   ],
   "source": [
    "MyT = (5, 4, 2, 7, 9, 0, 1)\n",
    "print(all(MyT))"
   ]
  },
  {
   "cell_type": "code",
   "execution_count": 11,
   "id": "4094dce5-a21e-4d84-84f1-6997896f1871",
   "metadata": {},
   "outputs": [
    {
     "name": "stdout",
     "output_type": "stream",
     "text": [
      "False\n"
     ]
    }
   ],
   "source": [
    "MyT = (5, 4, 2, 7, 9, \"\", 1)\n",
    "print(all(MyT))"
   ]
  },
  {
   "cell_type": "code",
   "execution_count": 12,
   "id": "c2f7c810-a4e1-429e-9a0a-086b1d8e38cf",
   "metadata": {},
   "outputs": [
    {
     "name": "stdout",
     "output_type": "stream",
     "text": [
      "False\n"
     ]
    }
   ],
   "source": [
    "MyT = (5, 4, 2, 7, 9, None, 1)\n",
    "print(all(MyT))"
   ]
  },
  {
   "cell_type": "code",
   "execution_count": 13,
   "id": "a07abef2-3931-451e-8176-437a167cf0ca",
   "metadata": {},
   "outputs": [
    {
     "name": "stdout",
     "output_type": "stream",
     "text": [
      "False\n"
     ]
    }
   ],
   "source": [
    "MyT = (5, 4, 2, 7, 9, False, 1)\n",
    "print(all(MyT))"
   ]
  },
  {
   "cell_type": "markdown",
   "id": "d9955447-cf18-4c9a-9666-9d82eddb5d6b",
   "metadata": {},
   "source": [
    "### metodo any en tuplas"
   ]
  },
  {
   "cell_type": "code",
   "execution_count": 14,
   "id": "f12e34fb-a35d-484e-98cc-f938f0e5f8bb",
   "metadata": {},
   "outputs": [
    {
     "name": "stdout",
     "output_type": "stream",
     "text": [
      "True\n"
     ]
    }
   ],
   "source": [
    "MyT = (5, 4, 2, 7, 9, 2, 1)\n",
    "print(any(MyT))"
   ]
  },
  {
   "cell_type": "code",
   "execution_count": 16,
   "id": "a6e417ea-62d1-45eb-9b68-15dfeedb9df3",
   "metadata": {},
   "outputs": [
    {
     "name": "stdout",
     "output_type": "stream",
     "text": [
      "True\n"
     ]
    }
   ],
   "source": [
    "MyT = (5, 4, 2, 7, 9, 0, 1)\n",
    "print(any(MyT))"
   ]
  },
  {
   "cell_type": "code",
   "execution_count": 17,
   "id": "cebf6191-ffc8-479c-9b4a-4d1ababcb261",
   "metadata": {},
   "outputs": [
    {
     "name": "stdout",
     "output_type": "stream",
     "text": [
      "True\n"
     ]
    }
   ],
   "source": [
    "MyT = (0, 0, 0, 0, 0, 0, 1)\n",
    "print(any(MyT))"
   ]
  },
  {
   "cell_type": "code",
   "execution_count": 18,
   "id": "615925b5-1622-4540-8e40-cd7c237b4b79",
   "metadata": {},
   "outputs": [
    {
     "name": "stdout",
     "output_type": "stream",
     "text": [
      "False\n"
     ]
    }
   ],
   "source": [
    "MyT = (0, \"\", False, 0, None)\n",
    "print(any(MyT))"
   ]
  },
  {
   "cell_type": "markdown",
   "id": "9380cc72-b0e3-4cae-a0f8-d5b8a0b990ce",
   "metadata": {},
   "source": [
    "### Metodo len en tuplas"
   ]
  },
  {
   "cell_type": "code",
   "execution_count": 21,
   "id": "69288a17-17a7-43ba-8936-fd77f164edfe",
   "metadata": {},
   "outputs": [
    {
     "name": "stdout",
     "output_type": "stream",
     "text": [
      "7\n",
      "<class 'tuple'>\n",
      "(5, 4, 2, 7, 9, 2, 1)\n"
     ]
    }
   ],
   "source": [
    "MyT = (5, 4, 2, 7, 9, 2, 1)\n",
    "print(len(MyT))\n",
    "print(type(MyT))\n",
    "print(MyT)"
   ]
  },
  {
   "cell_type": "markdown",
   "id": "758ba16c-0dc3-4bc0-b47c-4546985bd69e",
   "metadata": {},
   "source": [
    "### index en tuplas"
   ]
  },
  {
   "cell_type": "code",
   "execution_count": 22,
   "id": "eb2e3500-3bd4-41a0-a370-770732e7a060",
   "metadata": {},
   "outputs": [
    {
     "name": "stdout",
     "output_type": "stream",
     "text": [
      "<class 'tuple'>\n",
      "(5, 4, 2, 7, 9, 2, 1)\n",
      "5\n",
      "1\n",
      "7\n",
      "7\n"
     ]
    }
   ],
   "source": [
    "MyT = (5, 4, 2, 7, 9, 2, 1)\n",
    "print(type(MyT))\n",
    "print(MyT)\n",
    "print(MyT[0])\n",
    "print(MyT[-1])\n",
    "print(MyT[3])\n",
    "print(MyT[-4])"
   ]
  },
  {
   "cell_type": "markdown",
   "id": "cf7e533f-1bd8-4278-b2c0-2bb88c8bca48",
   "metadata": {},
   "source": [
    "Conversion de tuplas"
   ]
  },
  {
   "cell_type": "markdown",
   "id": "973f4ff4-8564-4337-9032-436a727d6b3d",
   "metadata": {},
   "source": [
    "##cadena a tupla"
   ]
  },
  {
   "cell_type": "code",
   "execution_count": 24,
   "id": "41fd6a4a-bb0a-4c0a-9cf0-b3fd8791bdb3",
   "metadata": {},
   "outputs": [
    {
     "name": "stdout",
     "output_type": "stream",
     "text": [
      "backend python\n",
      "('b', 'a', 'c', 'k', 'e', 'n', 'd', ' ', 'p', 'y', 't', 'h', 'o', 'n')\n"
     ]
    }
   ],
   "source": [
    "myS = \"backend python\"\n",
    "myT = tuple(myS)\n",
    "print(myS)\n",
    "print(myT)"
   ]
  },
  {
   "cell_type": "markdown",
   "id": "cd43d8b7-8ccb-482d-9681-c08132f31730",
   "metadata": {},
   "source": [
    "### Lista a tupla"
   ]
  },
  {
   "cell_type": "code",
   "execution_count": 31,
   "id": "a3cce196-441c-4b99-bc51-c01432d05fb0",
   "metadata": {},
   "outputs": [
    {
     "name": "stdout",
     "output_type": "stream",
     "text": [
      "['python', 'javascript', 'go', 'java', 'scala']\n",
      "('python', 'javascript', 'go', 'java', 'scala')\n"
     ]
    }
   ],
   "source": [
    "myL = [\"python\", \"javascript\", \"go\", \"java\", \"scala\"]\n",
    "ymT = tuple(myL)\n",
    "\n",
    "print(myL)\n",
    "print(ymT)"
   ]
  },
  {
   "cell_type": "code",
   "execution_count": 26,
   "id": "4aad24f1-3a7e-4c78-9943-5249a226105c",
   "metadata": {},
   "outputs": [],
   "source": [
    "### Tupla a cadena"
   ]
  },
  {
   "cell_type": "code",
   "execution_count": 28,
   "id": "eb256722-d151-4005-9a18-23506a9103aa",
   "metadata": {},
   "outputs": [
    {
     "name": "stdout",
     "output_type": "stream",
     "text": [
      "('b', 'a', 'c', 'k', 'e', 'n', 'd', ' ', 'p', 'y', 't', 'h', 'o', 'n')\n",
      "backend python\n"
     ]
    }
   ],
   "source": [
    "myT = ('b', 'a', 'c', 'k', 'e', 'n', 'd', ' ', 'p', 'y', 't', 'h', 'o', 'n')\n",
    "myS = \"\".join(myT)\n",
    "\n",
    "print(myT)\n",
    "print(myS)\n",
    "\n"
   ]
  },
  {
   "cell_type": "code",
   "execution_count": 32,
   "id": "a40642a9-295f-4ac3-9ecf-a07d40d20bd8",
   "metadata": {},
   "outputs": [
    {
     "name": "stdout",
     "output_type": "stream",
     "text": [
      "['python', 'javascript', 'go', 'java', 'scala']\n",
      "('python', 'javascript', 'go', 'java', 'scala')\n"
     ]
    }
   ],
   "source": [
    "myT = ('python', 'javascript', 'go', 'java', 'scala')\n",
    "myL = list(myT)\n",
    "\n",
    "print(myL)\n",
    "print(myT)"
   ]
  },
  {
   "cell_type": "markdown",
   "id": "c01d94c8-fa33-42a6-bb43-c19831e0415b",
   "metadata": {},
   "source": [
    "### Ventajas de la tupla\n",
    "\n",
    "- Generalmente usamos tuplas para elementos heterogeneos y usamos listas para elementos homogeneos\n",
    "- Las tuplas son inmutables\n",
    "- Las tuplas contienen elementos inmutables por lo que sirven para llaves de diccionario\n",
    "- Si tienes data te aseguras de mantenerlo protegido de alteraciones"
   ]
  },
  {
   "cell_type": "code",
   "execution_count": 33,
   "id": "ff5e61c7-4516-4a60-9d1c-565e0f6ce71c",
   "metadata": {},
   "outputs": [
    {
     "ename": "TypeError",
     "evalue": "'tuple' object does not support item assignment",
     "output_type": "error",
     "traceback": [
      "\u001b[1;31m---------------------------------------------------------------------------\u001b[0m",
      "\u001b[1;31mTypeError\u001b[0m                                 Traceback (most recent call last)",
      "Cell \u001b[1;32mIn[33], line 1\u001b[0m\n\u001b[1;32m----> 1\u001b[0m \u001b[43mmyT\u001b[49m\u001b[43m[\u001b[49m\u001b[38;5;241;43m0\u001b[39;49m\u001b[43m]\u001b[49m \u001b[38;5;241m=\u001b[39m \u001b[38;5;124m\"\u001b[39m\u001b[38;5;124mvalor intruso\u001b[39m\u001b[38;5;124m\"\u001b[39m\n",
      "\u001b[1;31mTypeError\u001b[0m: 'tuple' object does not support item assignment"
     ]
    }
   ],
   "source": [
    "myT[0] = \"valor intruso\""
   ]
  },
  {
   "cell_type": "code",
   "execution_count": 36,
   "id": "63200a7d-1f20-42a6-bbd2-92d9cf8a5a16",
   "metadata": {},
   "outputs": [],
   "source": [
    "my_list[0] = \"valor intruso\""
   ]
  },
  {
   "cell_type": "code",
   "execution_count": 37,
   "id": "d737d181-2d10-4158-bbce-9050798cbb15",
   "metadata": {},
   "outputs": [
    {
     "name": "stdout",
     "output_type": "stream",
     "text": [
      "('python', 'javascript', 'go', 'java', 'scala')\n",
      "['valor intruso', 200, 300, 400, 500]\n"
     ]
    }
   ],
   "source": [
    "print(myT)\n",
    "print(my_list)"
   ]
  },
  {
   "cell_type": "code",
   "execution_count": null,
   "id": "39c1c33e-b2ea-4336-9396-6f5b4da13686",
   "metadata": {},
   "outputs": [],
   "source": []
  }
 ],
 "metadata": {
  "kernelspec": {
   "display_name": "Python 3 (ipykernel)",
   "language": "python",
   "name": "python3"
  },
  "language_info": {
   "codemirror_mode": {
    "name": "ipython",
    "version": 3
   },
   "file_extension": ".py",
   "mimetype": "text/x-python",
   "name": "python",
   "nbconvert_exporter": "python",
   "pygments_lexer": "ipython3",
   "version": "3.11.4"
  }
 },
 "nbformat": 4,
 "nbformat_minor": 5
}

{
 "cells": [
  {
   "cell_type": "code",
   "execution_count": null,
   "id": "36b0bed5-902f-4532-8e30-a8a3e30bfbbe",
   "metadata": {},
   "outputs": [],
   "source": [
    "import requests \n",
    "\n",
    "print(\"Lista de Reproducción\\n\")\n",
    "\n",
    "# Referencia: https://www.deezer.com/en/channels/explore\n",
    "\n",
    "print(\"Ingresa la palabra que te gustaría\") \n",
    "print(\"Ejemplo: 'rock', y obtendrás un playlist de canciones o artistas que incluyan la palabra rock\")\n",
    "word_to_search = input() \n",
    "url = \"https://deezerdevs-deezer.p.rapidapi.com/search\" \n",
    "querystring = {\"q\":word_to_search} \n",
    "headers = {  \"X-RapidAPI-Key\": \"3ed98f551fmshe4e6260228c4eadp13db17jsn8c893e1194da\",    \n",
    "             \"X-RapidAPI-Host\": \"deezerdevs-deezer.p.rapidapi.com\"\n",
    "} \n",
    "response = requests.request(\"GET\", url, headers=headers, params=querystring).json()\n",
    "\n",
    "my_list = [] \n",
    "for element in response['data']:\n",
    "    my_list.append([element['title'], element['artist']['name']])\n",
    "print(my_list)"
   ]
  },
  {
   "cell_type": "code",
   "execution_count": 47,
   "id": "394a8ced-0b9b-4a2c-806e-4942d6ad6fba",
   "metadata": {},
   "outputs": [
    {
     "name": "stdout",
     "output_type": "stream",
     "text": [
      "Lista de Reproducción\n",
      "\n",
      "Ingresa la palabra que te gustaría\n",
      "Ejemplo: 'rock', y obtendrás un playlist de canciones o artistas que incluyan la palabra rock\n"
     ]
    },
    {
     "name": "stdin",
     "output_type": "stream",
     "text": [
      " my chemical romance\n"
     ]
    },
    {
     "name": "stdout",
     "output_type": "stream",
     "text": [
      "buscando recomendaciones de:  my chemical romance\n",
      "1 \t{ My Chemical Romance : Teenagers }\n",
      "2 \t{ My Chemical Romance : Welcome to the Black Parade }\n",
      "3 \t{ My Chemical Romance : Helena }\n",
      "4 \t{ My Chemical Romance : I'm Not Okay (I Promise) }\n",
      "5 \t{ My Chemical Romance : I Don't Love You }\n",
      "6 \t{ My Chemical Romance : Na Na Na (Na Na Na Na Na Na Na Na Na) }\n",
      "7 \t{ My Chemical Romance : Famous Last Words }\n",
      "8 \t{ My Chemical Romance : The Ghost of You }\n",
      "9 \t{ My Chemical Romance : Dead! }\n",
      "10 \t{ My Chemical Romance : Mama }\n",
      "11 \t{ My Chemical Romance : Thank You for the Venom }\n",
      "12 \t{ My Chemical Romance : The Sharpest Lives }\n",
      "13 \t{ Chris Webby : Chemical Romance }\n",
      "14 \t{ My Chemical Romance : SING }\n",
      "15 \t{ My Chemical Romance : Disenchanted }\n",
      "16 \t{ Bug Hunter : Alchemical Romance }\n",
      "17 \t{ My Chemical Romance : Cancer }\n",
      "18 \t{ My Chemical Romance : This Is How I Disappear }\n",
      "19 \t{ My Chemical Romance : It's Not a Fashion Statement, It's a Deathwish }\n",
      "20 \t{ My Chemical Romance : The End. }\n",
      "21 \t{ My Chemical Romance : Hang 'Em High }\n",
      "22 \t{ My Chemical Romance : Demolition Lovers }\n",
      "23 \t{ My Chemical Romance : To the End }\n",
      "24 \t{ My Chemical Romance : Sleep }\n",
      "<class 'dict'>\n"
     ]
    }
   ],
   "source": [
    "import requests \n",
    "\n",
    "print(\"Lista de Reproducción\\n\")\n",
    "\n",
    "# Referencia: https://www.deezer.com/en/channels/explore\n",
    "\n",
    "print(\"Ingresa la palabra que te gustaría\") \n",
    "print(\"Ejemplo: 'rock', y obtendrás un playlist de canciones o artistas que incluyan la palabra rock\")\n",
    "word_to_search = input() \n",
    "url = \"https://deezerdevs-deezer.p.rapidapi.com/search\" \n",
    "querystring = {\"q\":word_to_search} \n",
    "headers = {  \"X-RapidAPI-Key\": \"3ed98f551fmshe4e6260228c4eadp13db17jsn8c893e1194da\",    \n",
    "             \"X-RapidAPI-Host\": \"deezerdevs-deezer.p.rapidapi.com\"\n",
    "} \n",
    "response = requests.request(\"GET\", url, headers=headers, params=querystring).json()\n",
    "num = 1\n",
    "my_list = [] \n",
    "for element in response['data']:\n",
    "    my_list.append([element['title'], element['artist']['name']])\n",
    "dic = dict(my_list)\n",
    "print(\"buscando recomendaciones de: \", word_to_search)\n",
    "if(element['title'] < element['artist']['name']):\n",
    "   for key, value in dic.items():\n",
    "       print(num,\"\\t{\",f'{key} : {value}',\"}\")\n",
    "       num+=1\n",
    "elif(element['title'] > element['artist']['name']): \n",
    "   for key, value in dic.items():\n",
    "       print(num,\"\\t{\",f'{value} : {key}',\"}\")\n",
    "       num+=1\n",
    "print(type(dic))"
   ]
  },
  {
   "cell_type": "code",
   "execution_count": null,
   "id": "06b56627-cdb0-4264-afe4-ffe88f0cd507",
   "metadata": {},
   "outputs": [],
   "source": []
  }
 ],
 "metadata": {
  "kernelspec": {
   "display_name": "Python 3 (ipykernel)",
   "language": "python",
   "name": "python3"
  },
  "language_info": {
   "codemirror_mode": {
    "name": "ipython",
    "version": 3
   },
   "file_extension": ".py",
   "mimetype": "text/x-python",
   "name": "python",
   "nbconvert_exporter": "python",
   "pygments_lexer": "ipython3",
   "version": "3.11.4"
  }
 },
 "nbformat": 4,
 "nbformat_minor": 5
}

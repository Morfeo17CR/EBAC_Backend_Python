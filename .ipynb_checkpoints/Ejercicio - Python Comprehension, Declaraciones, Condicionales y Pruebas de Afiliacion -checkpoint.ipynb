{
 "cells": [
  {
   "cell_type": "code",
   "execution_count": null,
   "id": "36b0bed5-902f-4532-8e30-a8a3e30bfbbe",
   "metadata": {},
   "outputs": [],
   "source": [
    "import requests \n",
    "\n",
    "print(\"Lista de Reproducción\\n\")\n",
    "\n",
    "# Referencia: https://www.deezer.com/en/channels/explore\n",
    "\n",
    "print(\"Ingresa la palabra que te gustaría\") \n",
    "print(\"Ejemplo: 'rock', y obtendrás un playlist de canciones o artistas que incluyan la palabra rock\")\n",
    "word_to_search = input() \n",
    "url = \"https://deezerdevs-deezer.p.rapidapi.com/search\" \n",
    "querystring = {\"q\":word_to_search} \n",
    "headers = {  \"X-RapidAPI-Key\": \"3ed98f551fmshe4e6260228c4eadp13db17jsn8c893e1194da\",    \n",
    "             \"X-RapidAPI-Host\": \"deezerdevs-deezer.p.rapidapi.com\"\n",
    "} \n",
    "response = requests.request(\"GET\", url, headers=headers, params=querystring).json()\n",
    "\n",
    "my_list = [] \n",
    "for element in response['data']:\n",
    "    my_list.append([element['title'], element['artist']['name']])\n",
    "my_list = \"{},{}\".format('title','artist' or 'name')\n",
    "print(my_list)"
   ]
  },
  {
   "cell_type": "code",
   "execution_count": 72,
   "id": "394a8ced-0b9b-4a2c-806e-4942d6ad6fba",
   "metadata": {},
   "outputs": [
    {
     "name": "stdout",
     "output_type": "stream",
     "text": [
      "Lista de Reproducción\n",
      "\n",
      "Ingresa la palabra que te gustaría\n",
      "Ejemplo: 'rock', y obtendrás un playlist de canciones o artistas que incluyan la palabra rock\n"
     ]
    },
    {
     "name": "stdin",
     "output_type": "stream",
     "text": [
      " adele\n"
     ]
    },
    {
     "name": "stdout",
     "output_type": "stream",
     "text": [
      "buscando recomendaciones de:  adele\n",
      "algunas recomendaciones de artistas y algunas canciones con el nombre o similares:  adele\n",
      "1 \t{ Adele : Easy On Me }\n",
      "2 \t{ Adele : Skyfall }\n",
      "3 \t{ Adele : Oh My God }\n",
      "4 \t{ Adele : Rolling in the Deep }\n",
      "5 \t{ Adele : Love In The Dark }\n",
      "6 \t{ ChuloWorldwide : Alele }\n",
      "7 \t{ Adele : Set Fire to the Rain }\n",
      "8 \t{ Mr Leo : Ayele }\n",
      "9 \t{ Adele : Someone Like You }\n",
      "10 \t{ Adele : I Drink Wine }\n",
      "11 \t{ Adele : Hello }\n",
      "12 \t{ Adele : When We Were Young }\n",
      "13 \t{ KIDD KAWAKI : AWELE }\n",
      "14 \t{ Adele : Send My Love (To Your New Lover) }\n",
      "15 \t{ Oficina G3 : A Ele }\n",
      "16 \t{ Adele : Can I Get It }\n",
      "17 \t{ Carla's Dreams : Acele }\n",
      "18 \t{ Leuz Diwane G : À Félé }\n",
      "19 \t{ Adele : Rumour Has It }\n",
      "20 \t{ Deorro : Andele }\n",
      "21 \t{ Adele : Turning Tables }\n",
      "22 \t{ Lapsus Band : Anđele }\n",
      "23 \t{ Adele : One And Only }\n",
      "<class 'dict'>\n"
     ]
    }
   ],
   "source": [
    "import requests \n",
    "\n",
    "print(\"Lista de Reproducción\\n\")\n",
    "\n",
    "# Referencia: https://www.deezer.com/en/channels/explore\n",
    "\n",
    "print(\"Ingresa la palabra que te gustaría\") \n",
    "print(\"Ejemplo: 'rock', y obtendrás un playlist de canciones o artistas que incluyan la palabra rock\")\n",
    "word_to_search = input() \n",
    "url = \"https://deezerdevs-deezer.p.rapidapi.com/search\" \n",
    "querystring = {\"q\":word_to_search} \n",
    "headers = {  \"X-RapidAPI-Key\": \"3ed98f551fmshe4e6260228c4eadp13db17jsn8c893e1194da\",    \n",
    "             \"X-RapidAPI-Host\": \"deezerdevs-deezer.p.rapidapi.com\"\n",
    "} \n",
    "response = requests.request(\"GET\", url, headers=headers, params=querystring).json()\n",
    "num = 1\n",
    "my_list = [] \n",
    "for element in response['data']:\n",
    "    my_list.append([element['title'], element['artist']['name']])\n",
    "dic = dict(my_list)\n",
    "print(\"buscando recomendaciones de: \", word_to_search)\n",
    "if key > value:\n",
    "   print(\"algunas recomendaciones de canciones y algunos artistas con el nombre o similares: \", word_to_search)\n",
    "   for key, value in dic.items():\n",
    "       print(num,\"\\t{\",f'{key} : {value}',\"}\")\n",
    "       num+=1\n",
    "elif key < value:\n",
    "   print(\"algunas recomendaciones de artistas y algunas canciones con el nombre o similares: \", word_to_search)\n",
    "   for key, value in dic.items():\n",
    "       print(num,\"\\t{\",f'{value} : {key}',\"}\")\n",
    "       num+=1\n",
    "print(type(dic))"
   ]
  },
  {
   "cell_type": "code",
   "execution_count": null,
   "id": "06b56627-cdb0-4264-afe4-ffe88f0cd507",
   "metadata": {},
   "outputs": [],
   "source": []
  }
 ],
 "metadata": {
  "kernelspec": {
   "display_name": "Python 3 (ipykernel)",
   "language": "python",
   "name": "python3"
  },
  "language_info": {
   "codemirror_mode": {
    "name": "ipython",
    "version": 3
   },
   "file_extension": ".py",
   "mimetype": "text/x-python",
   "name": "python",
   "nbconvert_exporter": "python",
   "pygments_lexer": "ipython3",
   "version": "3.11.4"
  }
 },
 "nbformat": 4,
 "nbformat_minor": 5
}

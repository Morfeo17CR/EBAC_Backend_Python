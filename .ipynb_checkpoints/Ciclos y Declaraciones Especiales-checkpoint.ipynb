{
 "cells": [
  {
   "cell_type": "code",
   "execution_count": 6,
   "id": "d71c66c9-b8d7-406b-9385-6dce7a6abfe0",
   "metadata": {},
   "outputs": [
    {
     "name": "stdout",
     "output_type": "stream",
     "text": [
      "stop9\n",
      "stop1\n"
     ]
    }
   ],
   "source": [
    "import time\n",
    "\n",
    "def countdown(time_sec):\n",
    "    while time_sec:        \n",
    "        mins, secs = divmod(time_sec, 60)       \n",
    "        timeformat = '{:02d}:{:02d}'.format(mins, secs)       \n",
    "        print(timeformat, end='\\r')\n",
    "        time.sleep(1)\n",
    "        time_sec -= 1    \n",
    "        \n",
    "    print(\"stop\")\n",
    "\n",
    "\n",
    "def countup(time_sec2s):\n",
    "    time_sec2 = 0\n",
    "    while time_sec2 != time_sec2s:    \n",
    "        mins, secs = divmod(time_sec2, 60)       \n",
    "        timeformat = '{:02d}:{:02d}'.format(mins, secs)       \n",
    "        print(timeformat, end='\\r')\n",
    "        time.sleep(1)\n",
    "        time_sec2 += 1 \n",
    "    print(\"stop\")\n",
    "\n",
    "countup(90)\n",
    "countdown(90)"
   ]
  },
  {
   "cell_type": "code",
   "execution_count": null,
   "id": "caae7864-9895-43cb-964c-e59e85195dc3",
   "metadata": {},
   "outputs": [],
   "source": []
  }
 ],
 "metadata": {
  "kernelspec": {
   "display_name": "Python 3 (ipykernel)",
   "language": "python",
   "name": "python3"
  },
  "language_info": {
   "codemirror_mode": {
    "name": "ipython",
    "version": 3
   },
   "file_extension": ".py",
   "mimetype": "text/x-python",
   "name": "python",
   "nbconvert_exporter": "python",
   "pygments_lexer": "ipython3",
   "version": "3.11.4"
  }
 },
 "nbformat": 4,
 "nbformat_minor": 5
}

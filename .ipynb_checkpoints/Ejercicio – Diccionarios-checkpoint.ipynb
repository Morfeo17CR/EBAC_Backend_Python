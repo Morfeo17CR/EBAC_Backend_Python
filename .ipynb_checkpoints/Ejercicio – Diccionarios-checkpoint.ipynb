{
 "cells": [
  {
   "cell_type": "code",
   "execution_count": 1,
   "id": "8445cab3-db99-4e9b-b503-54b7a00cdb35",
   "metadata": {},
   "outputs": [
    {
     "name": "stdout",
     "output_type": "stream",
     "text": [
      "Collecting pokebase\n",
      "  Downloading pokebase-1.3.0-py3-none-any.whl (11 kB)\n",
      "Requirement already satisfied: requests in c:\\users\\lenovo\\appdata\\local\\programs\\python\\python311\\lib\\site-packages (from pokebase) (2.31.0)\n",
      "Requirement already satisfied: charset-normalizer<4,>=2 in c:\\users\\lenovo\\appdata\\local\\programs\\python\\python311\\lib\\site-packages (from requests->pokebase) (3.3.2)\n",
      "Requirement already satisfied: idna<4,>=2.5 in c:\\users\\lenovo\\appdata\\local\\programs\\python\\python311\\lib\\site-packages (from requests->pokebase) (3.4)\n",
      "Requirement already satisfied: urllib3<3,>=1.21.1 in c:\\users\\lenovo\\appdata\\local\\programs\\python\\python311\\lib\\site-packages (from requests->pokebase) (2.1.0)\n",
      "Requirement already satisfied: certifi>=2017.4.17 in c:\\users\\lenovo\\appdata\\local\\programs\\python\\python311\\lib\\site-packages (from requests->pokebase) (2023.11.17)\n",
      "Installing collected packages: pokebase\n",
      "Successfully installed pokebase-1.3.0\n"
     ]
    }
   ],
   "source": [
    "!pip install pokebase"
   ]
  },
  {
   "cell_type": "code",
   "execution_count": 1,
   "id": "c7e75ed3-5ac4-4cb1-a81a-c9006e4859c2",
   "metadata": {},
   "outputs": [
    {
     "name": "stdin",
     "output_type": "stream",
     "text": [
      "Ingresa el nombre de un pokemon\n",
      "\n",
      " pikachu\n"
     ]
    },
    {
     "name": "stdout",
     "output_type": "stream",
     "text": [
      "ID:  25\n",
      "Nombre:  pikachu\n",
      "Altura:  0.4 m\n",
      "Peso:  6.0 Kg\n",
      "Descripción:  Le gusta relajarse\n"
     ]
    }
   ],
   "source": [
    "import pokebase as pb \n",
    "import requests \n",
    "\n",
    "pokemon_to_search = input(\"Ingresa el nombre de un pokemon\\n\\n\")\n",
    "data = pb.pokemon(pokemon_to_search).__dict__ \n",
    "id_ = data.get('id_') \n",
    "name = data.get('name') \n",
    "height = data.get('height')\n",
    "weight = data.get('weight')\n",
    "\n",
    "height = height * .1\n",
    "weight = weight * .1\n",
    "\n",
    "print(\"ID: \", id_) \n",
    "print(\"Nombre: \", name) \n",
    "print(\"Altura: \",height, \"m\") \n",
    "print(\"Peso: \", weight, \"Kg\") \n",
    "\n",
    "url = \"https://pokeapi.co/api/v2/characteristic/{id}/\".format(id=id_) \n",
    "response = requests.get(url) \n",
    "for description_dict in response.json().get(\"descriptions\"):    \n",
    "    if description_dict.get(\"language\", {}).get(\"name\") == \"es\":        \n",
    "        description = description_dict.get(\"description\")        \n",
    "        print(\"Descripción: \",description)\n",
    "    elif((description_dict.get(\"language\", {}).get(\"name\") == \"es\") == None):\n",
    "        print(\"No hay descripcion\")"
   ]
  },
  {
   "cell_type": "code",
   "execution_count": null,
   "id": "42d4479d-c263-4f62-805b-b248aef8d3a3",
   "metadata": {},
   "outputs": [],
   "source": []
  }
 ],
 "metadata": {
  "kernelspec": {
   "display_name": "Python 3 (ipykernel)",
   "language": "python",
   "name": "python3"
  },
  "language_info": {
   "codemirror_mode": {
    "name": "ipython",
    "version": 3
   },
   "file_extension": ".py",
   "mimetype": "text/x-python",
   "name": "python",
   "nbconvert_exporter": "python",
   "pygments_lexer": "ipython3",
   "version": "3.11.4"
  }
 },
 "nbformat": 4,
 "nbformat_minor": 5
}

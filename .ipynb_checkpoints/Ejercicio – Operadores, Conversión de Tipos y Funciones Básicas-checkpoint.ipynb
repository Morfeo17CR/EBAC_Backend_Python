{
 "cells": [
  {
   "cell_type": "code",
   "execution_count": 25,
   "id": "92732db3-062e-44ab-997e-47fd6be75269",
   "metadata": {},
   "outputs": [
    {
     "name": "stdin",
     "output_type": "stream",
     "text": [
      "Ingresa una lista de 5 números separados por comas (por ejemplo, 1,2,3,4,5):  1:2, 2:3, 3:4, 4:5, 5:6\n"
     ]
    },
    {
     "name": "stdout",
     "output_type": "stream",
     "text": [
      "<class 'dict'>\n",
      " *** menu ***\n",
      "s) suma\n",
      "r) resta\n",
      "m) multiplicacion\n",
      "d) division\n",
      "p) potencia\n"
     ]
    },
    {
     "name": "stdin",
     "output_type": "stream",
     "text": [
      "elige la operacion a realizar :  s\n"
     ]
    },
    {
     "name": "stdout",
     "output_type": "stream",
     "text": [
      "La suma de los datos es: 20\n"
     ]
    }
   ],
   "source": [
    "def convertir_valor(valor):\n",
    "    base = 10\n",
    "    if valor.startswith('0b') or valor.startswith('0B'):\n",
    "        base = 2\n",
    "        valor = valor[2:]\n",
    "    elif valor.startswith('0o') or valor.startswith('0O'):\n",
    "        base = 8\n",
    "        valor = valor[2:]\n",
    "    elif valor.startswith('0x') or valor.startswith('0X'):\n",
    "        base = 16\n",
    "        valor = valor[2:]\n",
    "    return int(valor, base)\n",
    "\n",
    "# Solicitar al usuario que ingrese los datos\n",
    "entrada = input(\"Ingresa una lista de 5 números separados por comas (por ejemplo, 1,2,3,4,5 o 1:2, 2:3, 3:4, 4:5, 5:6): \")\n",
    "\n",
    "if ':' in entrada:\n",
    "    elementos = entrada.split(', ')\n",
    "    diccionario_datos = {}\n",
    "    for elemento in elementos:\n",
    "        clave, valor = elemento.split(':')\n",
    "        diccionario_datos[int(valor)] = int(clave)  # Intercambiamos clave y valor\n",
    "    print(type(diccionario_datos))\n",
    "    datos = list(diccionario_datos)\n",
    "else:\n",
    " datos = entrada.split(',')\n",
    " datos = [int(dato) for dato in datos]\n",
    " if len(datos) == 5 and all(x == datos[0] for x in datos):\n",
    "    print(\"La entrada representa una lista:\", datos)\n",
    "    print(\"Es una lista con 5 elementos y todos son iguales.\")\n",
    "    print(type(datos))\n",
    " elif len(set(datos)) == 5:\n",
    "    print(\"La entrada representa un conjunto (set):\", datos)\n",
    "    print(\"Es un conjunto con 5 elementos distintos.\")\n",
    "    datos = set(datos)\n",
    "    print(type(datos))\n",
    "    datos = list(datos)\n",
    " else:\n",
    "    print(\"La entrada representa una lista:\", datos)\n",
    "    print(\"Es una lista con 5 elementos\")\n",
    "    print(type(datos))\n",
    "\n",
    "\n",
    "print(\" *** menu ***\")\n",
    "print(\"s) suma\")\n",
    "print(\"r) resta\")\n",
    "print(\"m) multiplicacion\")\n",
    "print(\"d) division\")\n",
    "print(\"p) potencia\")\n",
    "A = input(\"elige la operacion a realizar : \")\n",
    "\n",
    "if A.lower() == 's':\n",
    "    print(\"La suma de los datos es:\", sum(datos))\n",
    "elif A.lower() == 'r':\n",
    "    resultado_resta = datos[0]  # Inicializar con el primer elemento de la lista\n",
    "    for dato in datos[1:]:\n",
    "        resultado_resta -= dato  # Restar cada elemento de la lista\n",
    "    print(\"El resultado de la resta de los datos es:\", resultado_resta)\n",
    "elif A.lower() == 'm':\n",
    "    resultado_multiplicacion = 1  # Inicializar el resultado en 1\n",
    "    for dato in datos:\n",
    "        resultado_multiplicacion *= dato  # Multiplicar cada dato en la lista\n",
    "    print(\"El resultado de la multiplicación de los datos es:\", resultado_multiplicacion)\n",
    "    pass\n",
    "elif A.lower() == 'd':\n",
    "    if 0 in datos[0:]:\n",
    "        print(\"No se puede dividir por cero. Por favor, asegúrate de que no haya ceros en los datos.\")\n",
    "    else:\n",
    "        resultado_division = datos[0]\n",
    "        for num in datos[1:]:\n",
    "            resultado_division /= num\n",
    "        print(\"El resultado de la división es:\", resultado_division)\n",
    "    pass\n",
    "elif A.lower() == 'p':\n",
    "    exponente = int(input(\"Ingresa el exponente para elevar los datos: \"))\n",
    "    potencia_datos = [dato ** exponente for dato in datos]\n",
    "    print(\"Los datos elevados a la potencia\", exponente, \"son:\", potencia_datos)\n",
    "else:\n",
    "    print(\"Opción no válida\")"
   ]
  },
  {
   "cell_type": "code",
   "execution_count": null,
   "id": "1f11b9d8-f0d7-47a9-a337-412c0d94a5c6",
   "metadata": {},
   "outputs": [],
   "source": []
  }
 ],
 "metadata": {
  "kernelspec": {
   "display_name": "Python 3 (ipykernel)",
   "language": "python",
   "name": "python3"
  },
  "language_info": {
   "codemirror_mode": {
    "name": "ipython",
    "version": 3
   },
   "file_extension": ".py",
   "mimetype": "text/x-python",
   "name": "python",
   "nbconvert_exporter": "python",
   "pygments_lexer": "ipython3",
   "version": "3.11.4"
  }
 },
 "nbformat": 4,
 "nbformat_minor": 5
}

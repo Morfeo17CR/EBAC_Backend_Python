{
 "cells": [
  {
   "cell_type": "code",
   "execution_count": null,
   "id": "c4c42c63-75a3-4da3-9161-9edd82410bce",
   "metadata": {},
   "outputs": [],
   "source": [
    "## ejercicio\n",
    "A = input(\"Ingrese un numero de tipo entero\")\n",
    "A_int = int(A)\n",
    "print(A_int, type(A_int))\n",
    "B = input(\"Ingrese un numero de tipo float\")\n",
    "B_float = float(B)\n",
    "print(B_float, type(B_float))\n",
    "C = input(\"Ingrese una cadena\")\n",
    "print(C, type(C))"
   ]
  },
  {
   "cell_type": "code",
   "execution_count": null,
   "id": "edb3d263-332b-4569-8864-be01e4784269",
   "metadata": {},
   "outputs": [],
   "source": []
  }
 ],
 "metadata": {
  "kernelspec": {
   "display_name": "Python 3 (ipykernel)",
   "language": "python",
   "name": "python3"
  },
  "language_info": {
   "codemirror_mode": {
    "name": "ipython",
    "version": 3
   },
   "file_extension": ".py",
   "mimetype": "text/x-python",
   "name": "python",
   "nbconvert_exporter": "python",
   "pygments_lexer": "ipython3",
   "version": "3.11.4"
  }
 },
 "nbformat": 4,
 "nbformat_minor": 5
}

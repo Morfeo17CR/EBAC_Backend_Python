{
 "cells": [
  {
   "cell_type": "code",
   "execution_count": 6,
   "id": "8683af4a-9e34-414e-b9ae-13d62c43a8fc",
   "metadata": {},
   "outputs": [
    {
     "name": "stdout",
     "output_type": "stream",
     "text": [
      "   elige una opcion:\n",
      "a) 'Este es un product muy bueno, excelente, maravilloso' \n",
      "b) 'Este es un product muy malo, defectuoso, horrible' \n",
      "c) 'Este es un product muy bueno pero defectuoso, maravilloso pero huele horrible' \n"
     ]
    },
    {
     "name": "stdin",
     "output_type": "stream",
     "text": [
      " c\n"
     ]
    },
    {
     "name": "stdout",
     "output_type": "stream",
     "text": [
      "Analizador de sentimientos\n",
      "\n",
      "my_string:  Este es un product muy bueno pero defectuoso , maravilloso pero huele horrible \n",
      "score: 0 \n",
      "resultado: Neutro\n"
     ]
    }
   ],
   "source": [
    "print(\"   elige una opcion:\")\n",
    "print(\"a) 'Este es un product muy bueno, excelente, maravilloso' \")\n",
    "print(\"b) 'Este es un product muy malo, defectuoso, horrible' \")\n",
    "print(\"c) 'Este es un product muy bueno pero defectuoso, maravilloso pero huele horrible' \")\n",
    "x = input()\n",
    "\n",
    "if(x == 'a' or x == 'A'):\n",
    "   my_string = \"\"\" Este es un product muy bueno, excelente, maravilloso \"\"\"\n",
    "elif(x == 'b' or x == 'B'):\n",
    "   my_string = \"\"\" Este es un product muy malo, defectuoso, horrible \"\"\"\n",
    "elif(x == 'c' or x == 'C'):\n",
    "   my_string = \"\"\" Este es un product muy bueno pero defectuoso , maravilloso pero huele horrible \"\"\"\n",
    "\n",
    "positive_words = [\"bueno\", \"excelente\", \"maravilloso\"]\n",
    "negative_words = [\"defectuoso\", \"malo\", \"horrible\"]\n",
    "score = 0\n",
    "for positive_word in positive_words:\n",
    "    score = score + my_string.count(positive_word)\n",
    "    \n",
    "for negative_word in negative_words:    \n",
    "    score = score - my_string.count(negative_word)\n",
    "\n",
    "\n",
    "if score == 0:    \n",
    "    result = \"Neutro\" \n",
    "if score > 0:    \n",
    "    result = \"Positivo\" \n",
    "if score < 0:    \n",
    "    result = \"Negativo\"    \n",
    "\n",
    "print(\"Analizador de sentimientos\\n\") \n",
    "print(\"my_string: {}\\nscore: {} \\nresultado: {}\".format(my_string, score, result))"
   ]
  },
  {
   "cell_type": "code",
   "execution_count": null,
   "id": "441ab645-04f7-4537-bf22-1f5b49bd2e2d",
   "metadata": {},
   "outputs": [],
   "source": []
  }
 ],
 "metadata": {
  "kernelspec": {
   "display_name": "Python 3 (ipykernel)",
   "language": "python",
   "name": "python3"
  },
  "language_info": {
   "codemirror_mode": {
    "name": "ipython",
    "version": 3
   },
   "file_extension": ".py",
   "mimetype": "text/x-python",
   "name": "python",
   "nbconvert_exporter": "python",
   "pygments_lexer": "ipython3",
   "version": "3.11.4"
  }
 },
 "nbformat": 4,
 "nbformat_minor": 5
}

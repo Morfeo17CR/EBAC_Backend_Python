{
 "cells": [
  {
   "cell_type": "code",
   "execution_count": 1,
   "id": "71eff20f-e9ab-4d03-b3cf-7eed09b5d349",
   "metadata": {},
   "outputs": [],
   "source": [
    "### Declaracionevars condicionales"
   ]
  },
  {
   "cell_type": "code",
   "execution_count": 2,
   "id": "751ac224-48a9-4731-a6a0-856e2bcb7106",
   "metadata": {},
   "outputs": [
    {
     "name": "stdout",
     "output_type": "stream",
     "text": [
      "dentro del bloque if\n",
      "fin del ejemplo\n"
     ]
    }
   ],
   "source": [
    "num = 3\n",
    "\n",
    "if(num>1):\n",
    "    print(\"dentro del bloque if\")\n",
    "print(\"fin del ejemplo\")"
   ]
  },
  {
   "cell_type": "code",
   "execution_count": 3,
   "id": "4c81e241-f9b4-4126-8caa-ba20cc04ce62",
   "metadata": {},
   "outputs": [
    {
     "name": "stdout",
     "output_type": "stream",
     "text": [
      "dentro del bloque if\n",
      "fin del ejemplo\n"
     ]
    }
   ],
   "source": [
    "num = 3\n",
    "\n",
    "if(num > 1 and num < 10):\n",
    "    print(\"dentro del bloque if\")\n",
    "print(\"fin del ejemplo\")"
   ]
  },
  {
   "cell_type": "code",
   "execution_count": 4,
   "id": "0824662e-10f5-42e1-8ffe-c3bd8579306e",
   "metadata": {},
   "outputs": [
    {
     "name": "stdout",
     "output_type": "stream",
     "text": [
      "fin del ejemplo\n"
     ]
    }
   ],
   "source": [
    "num = 0\n",
    "\n",
    "if(num > 1 and num < 10):\n",
    "    print(\"dentro del bloque if\")\n",
    "print(\"fin del ejemplo\")"
   ]
  },
  {
   "cell_type": "code",
   "execution_count": 5,
   "id": "ad28fdd8-8a9b-4cca-addc-64edf54cbf70",
   "metadata": {},
   "outputs": [
    {
     "name": "stdout",
     "output_type": "stream",
     "text": [
      "fin del ejemplo\n"
     ]
    }
   ],
   "source": [
    "num = 0\n",
    "\n",
    "if(num > 1 and num < 10):\n",
    "    print(\"dentro del bloque if\")\n",
    "    print(\"test\")\n",
    "    print(\"probando . . .\")\n",
    "print(\"fin del ejemplo\")"
   ]
  },
  {
   "cell_type": "code",
   "execution_count": 6,
   "id": "b32a4c50-1946-450d-a470-e8c44a48d657",
   "metadata": {},
   "outputs": [
    {
     "name": "stdout",
     "output_type": "stream",
     "text": [
      "dentro del bloque else\n",
      "else\n",
      "ELSE\n",
      "La condicion no se cumplio\n",
      "fin del ejemplo\n"
     ]
    }
   ],
   "source": [
    "num = 0\n",
    "\n",
    "if(num > 1 and num < 10):\n",
    "    print(\"dentro del bloque if\")\n",
    "    print(\"test\")\n",
    "    print(\"probando . . .\")\n",
    "else:\n",
    "    print(\"dentro del bloque else\")\n",
    "    print(\"else\")\n",
    "    print(\"ELSE\")\n",
    "    print(\"La condicion no se cumplio\")\n",
    "    \n",
    "print(\"fin del ejemplo\")"
   ]
  },
  {
   "cell_type": "code",
   "execution_count": 7,
   "id": "dd9b7fcf-1be7-4e39-9349-e1fc59175c64",
   "metadata": {},
   "outputs": [
    {
     "name": "stdout",
     "output_type": "stream",
     "text": [
      "dentro del bloque if\n",
      "test\n",
      "probando . . .\n",
      "fin del ejemplo\n"
     ]
    }
   ],
   "source": [
    "num = 3\n",
    "\n",
    "if(num > 1 and num < 10):\n",
    "    print(\"dentro del bloque if\")\n",
    "    print(\"test\")\n",
    "    print(\"probando . . .\")\n",
    "else:\n",
    "    print(\"dentro del bloque else\")\n",
    "    print(\"else\")\n",
    "    print(\"ELSE\")\n",
    "    print(\"La condicion no se cumplio\")\n",
    "    \n",
    "print(\"fin del ejemplo\")"
   ]
  },
  {
   "cell_type": "code",
   "execution_count": 8,
   "id": "59f69fea-d07e-482f-84af-6d1401024ca8",
   "metadata": {},
   "outputs": [
    {
     "name": "stdout",
     "output_type": "stream",
     "text": [
      "dentro del bloque else\n",
      "else\n",
      "ELSE\n",
      "La condicion no se cumplio\n",
      "fin del ejemplo\n"
     ]
    }
   ],
   "source": [
    "num = 11\n",
    "\n",
    "if(num > 1 and num < 10):\n",
    "    print(\"dentro del bloque if\")\n",
    "    print(\"test\")\n",
    "    print(\"probando . . .\")\n",
    "else:\n",
    "    print(\"dentro del bloque else\")\n",
    "    print(\"else\")\n",
    "    print(\"ELSE\")\n",
    "    print(\"La condicion no se cumplio\")\n",
    "    \n",
    "print(\"fin del ejemplo\")"
   ]
  },
  {
   "cell_type": "code",
   "execution_count": 9,
   "id": "ac26b460-72a8-4429-a026-f06800ba48b2",
   "metadata": {},
   "outputs": [
    {
     "name": "stdout",
     "output_type": "stream",
     "text": [
      "dentro del bloque if\n",
      "test\n",
      "probando . . .\n",
      "fin del ejemplo\n"
     ]
    }
   ],
   "source": [
    "num = 4\n",
    "\n",
    "if(num > 1 and num < 10):\n",
    "    print(\"dentro del bloque if\")\n",
    "    print(\"test\")\n",
    "    print(\"probando . . .\")\n",
    "elif(num == 2):\n",
    "    print(\"Dentro del bloque if\")\n",
    "    print(\"el valor de num es 2\")\n",
    "else:\n",
    "    print(\"dentro del bloque else\")\n",
    "    print(\"else\")\n",
    "    print(\"ELSE\")\n",
    "    print(\"La condicion no se cumplio\")\n",
    "    \n",
    "print(\"fin del ejemplo\")"
   ]
  },
  {
   "cell_type": "code",
   "execution_count": 12,
   "id": "cfa0a4c5-873b-4507-8cf3-62a426057caf",
   "metadata": {},
   "outputs": [
    {
     "name": "stdout",
     "output_type": "stream",
     "text": [
      "dentro del bloque else\n",
      "else\n",
      "ELSE\n",
      "La condicion no se cumplio\n",
      "fin del ejemplo\n"
     ]
    }
   ],
   "source": [
    "num = 11\n",
    "\n",
    "if(num > 1 and num < 10):\n",
    "    print(\"dentro del bloque if\")\n",
    "    print(\"test\")\n",
    "    print(\"probando . . .\")\n",
    "elif(num == 2):\n",
    "    print(\"Dentro del bloque elif\")\n",
    "    print(\"el valor de num es 2\")\n",
    "else:\n",
    "    print(\"dentro del bloque else\")\n",
    "    print(\"else\")\n",
    "    print(\"ELSE\")\n",
    "    print(\"La condicion no se cumplio\")\n",
    "    \n",
    "print(\"fin del ejemplo\")"
   ]
  },
  {
   "cell_type": "code",
   "execution_count": 18,
   "id": "04b088e8-9f01-4676-a0ac-7661a049c83e",
   "metadata": {},
   "outputs": [
    {
     "name": "stdout",
     "output_type": "stream",
     "text": [
      "Dentro del bloque elif\n",
      "el valor de num es 11\n",
      "fin del ejemplo\n"
     ]
    }
   ],
   "source": [
    "num = 11\n",
    "\n",
    "if(num > 1 and num < 10):\n",
    "    print(\"dentro del bloque if\")\n",
    "    print(\"test\")\n",
    "    print(\"probando . . .\")\n",
    "elif(num == 11):\n",
    "    print(\"Dentro del bloque elif\")\n",
    "    print(\"el valor de num es 11\")\n",
    "elif(num == 12):\n",
    "    print(\"Dentro del bloque elif\")\n",
    "    print(\"el valor de num es 11\")\n",
    "elif(num == 13):\n",
    "    print(\"Dentro del bloque elif\")\n",
    "    print(\"el valor de num es 11\")\n",
    "else:\n",
    "    print(\"dentro del bloque else\")\n",
    "    print(\"else\")\n",
    "    print(\"ELSE\")\n",
    "    print(\"La condicion no se cumplio\")\n",
    "    \n",
    "print(\"fin del ejemplo\")"
   ]
  },
  {
   "cell_type": "code",
   "execution_count": 21,
   "id": "28e32d78-e67f-4713-90c2-df9658dd0c81",
   "metadata": {},
   "outputs": [
    {
     "name": "stdout",
     "output_type": "stream",
     "text": [
      "Dentro del bloque elif\n",
      "el valor de num es 12\n",
      "fin del ejemplo\n"
     ]
    }
   ],
   "source": [
    "num = 12\n",
    "\n",
    "if(num > 1 and num < 10):\n",
    "    print(\"dentro del bloque if\")\n",
    "    print(\"test\")\n",
    "    print(\"probando . . .\")\n",
    "elif(num == 11):\n",
    "    print(\"Dentro del bloque elif\")\n",
    "    print(\"el valor de num es 11\")\n",
    "elif(num == 12):\n",
    "    print(\"Dentro del bloque elif\")\n",
    "    print(\"el valor de num es 12\")\n",
    "elif(num == 13):\n",
    "    print(\"Dentro del bloque elif\")\n",
    "    print(\"el valor de num es 13\")\n",
    "else:\n",
    "    print(\"dentro del bloque else\")\n",
    "    print(\"else\")\n",
    "    print(\"ELSE\")\n",
    "    print(\"La condicion no se cumplio\")\n",
    "    \n",
    "print(\"fin del ejemplo\")"
   ]
  },
  {
   "cell_type": "code",
   "execution_count": 23,
   "id": "c09541d3-33fd-4b0e-b747-b8dbc0a8b87f",
   "metadata": {},
   "outputs": [
    {
     "name": "stdout",
     "output_type": "stream",
     "text": [
      "dentro del bloque else\n",
      "else\n",
      "ELSE\n",
      "La condicion no se cumplio\n",
      "ninguna de las condiciones se cumplio\n",
      "fin del ejemplo\n"
     ]
    }
   ],
   "source": [
    "num = 77\n",
    "\n",
    "if(num > 1 and num < 10):\n",
    "    print(\"dentro del bloque if\")\n",
    "    print(\"test\")\n",
    "    print(\"probando . . .\")\n",
    "elif(num == 11):\n",
    "    print(\"Dentro del bloque elif\")\n",
    "    print(\"el valor de num es 11\")\n",
    "elif(num == 12):\n",
    "    print(\"Dentro del bloque elif\")\n",
    "    print(\"el valor de num es 12\")\n",
    "elif(num == 13):\n",
    "    print(\"Dentro del bloque elif\")\n",
    "    print(\"el valor de num es 13\")\n",
    "else:\n",
    "    print(\"dentro del bloque else\")\n",
    "    print(\"else\")\n",
    "    print(\"ELSE\")\n",
    "    print(\"La condicion no se cumplio\")\n",
    "    print(\"ninguna de las condiciones se cumplio\")\n",
    "    \n",
    "print(\"fin del ejemplo\")"
   ]
  },
  {
   "cell_type": "code",
   "execution_count": 24,
   "id": "652142ab-969e-4d0f-8e40-2bf35d4c46c0",
   "metadata": {},
   "outputs": [],
   "source": [
    "### ifs anidados"
   ]
  },
  {
   "cell_type": "code",
   "execution_count": 25,
   "id": "e417fa8f-c5cd-4397-8511-7917f7c12448",
   "metadata": {},
   "outputs": [
    {
     "name": "stdout",
     "output_type": "stream",
     "text": [
      "dentro del bloque if\n",
      "fin del programa\n"
     ]
    }
   ],
   "source": [
    "num = 3\n",
    "if num >= 1:\n",
    "    print(\"dentro del bloque if\")\n",
    "    if num >= 10:\n",
    "        print(\"dentro del bloque del if anidado\")\n",
    "        print(\"el numero es mayor o igual a 10\")\n",
    "print(\"fin del programa\")"
   ]
  },
  {
   "cell_type": "code",
   "execution_count": 26,
   "id": "48a3bbc0-8f3c-4fce-9b28-fef574134d44",
   "metadata": {},
   "outputs": [
    {
     "name": "stdout",
     "output_type": "stream",
     "text": [
      "dentro del bloque if\n",
      "dentro del bloque del if anidado\n",
      "el numero es mayor o igual a 10\n",
      "fin del programa\n"
     ]
    }
   ],
   "source": [
    "num = 10\n",
    "if num >= 1:\n",
    "    print(\"dentro del bloque if\")\n",
    "    if num >= 10:\n",
    "        print(\"dentro del bloque del if anidado\")\n",
    "        print(\"el numero es mayor o igual a 10\")\n",
    "print(\"fin del programa\")"
   ]
  },
  {
   "cell_type": "code",
   "execution_count": 27,
   "id": "22fba05e-b49e-4bab-9119-16f6a3488d11",
   "metadata": {},
   "outputs": [
    {
     "name": "stdout",
     "output_type": "stream",
     "text": [
      "dentro del bloque if\n",
      "dentro del bloque del if anidado\n",
      "el numero es mayor o igual a 10\n",
      "fin del programa\n"
     ]
    }
   ],
   "source": [
    "num = 100\n",
    "if num >= 1:\n",
    "    print(\"dentro del bloque if\")\n",
    "    if num >= 10:\n",
    "        print(\"dentro del bloque del if anidado\")\n",
    "        print(\"el numero es mayor o igual a 10\")\n",
    "print(\"fin del programa\")"
   ]
  },
  {
   "cell_type": "code",
   "execution_count": 28,
   "id": "65aaeea6-61f6-4edb-bda5-7f3a430693cd",
   "metadata": {},
   "outputs": [
    {
     "name": "stdout",
     "output_type": "stream",
     "text": [
      "fin del programa\n"
     ]
    }
   ],
   "source": [
    "num = 10\n",
    "if num >= 100:\n",
    "    print(\"dentro del bloque if\")\n",
    "    if num >= 10:\n",
    "        print(\"dentro del bloque del if anidado\")\n",
    "        print(\"el numero es mayor o igual a 10\")\n",
    "print(\"fin del programa\")"
   ]
  },
  {
   "cell_type": "code",
   "execution_count": 29,
   "id": "ff2be9c1-888f-4bd5-b2ca-b7c54b6f0ffe",
   "metadata": {},
   "outputs": [],
   "source": [
    "### pruebas de afiliacion\n"
   ]
  },
  {
   "cell_type": "code",
   "execution_count": 30,
   "id": "8554de6e-2d5d-422b-8485-0bfa40e25e4e",
   "metadata": {},
   "outputs": [
    {
     "name": "stdout",
     "output_type": "stream",
     "text": [
      "True\n"
     ]
    }
   ],
   "source": [
    "str = \"Backend Python\"\n",
    "print(\"a\" in str)"
   ]
  },
  {
   "cell_type": "code",
   "execution_count": 31,
   "id": "b0634bd6-8f55-4ceb-b104-b8fcdfc700f1",
   "metadata": {},
   "outputs": [
    {
     "name": "stdout",
     "output_type": "stream",
     "text": [
      "False\n"
     ]
    }
   ],
   "source": [
    "str = \"Backend Python\"\n",
    "print(\"z\" in str)"
   ]
  },
  {
   "cell_type": "code",
   "execution_count": 32,
   "id": "49931084-5216-4542-81fe-bf3161fe4e43",
   "metadata": {},
   "outputs": [
    {
     "name": "stdout",
     "output_type": "stream",
     "text": [
      "True\n"
     ]
    }
   ],
   "source": [
    "str = \"Backend Python\"\n",
    "print(\"z\" not in str)"
   ]
  },
  {
   "cell_type": "code",
   "execution_count": 33,
   "id": "c1113cbb-92f9-489d-a48e-a42116ca519d",
   "metadata": {},
   "outputs": [
    {
     "name": "stdout",
     "output_type": "stream",
     "text": [
      "False\n"
     ]
    }
   ],
   "source": [
    "str = \"Backend Python\"\n",
    "print(\"a\" not in str)"
   ]
  },
  {
   "cell_type": "code",
   "execution_count": 34,
   "id": "5c387099-4c31-471c-b895-a16521bde458",
   "metadata": {},
   "outputs": [
    {
     "name": "stdout",
     "output_type": "stream",
     "text": [
      "True\n"
     ]
    }
   ],
   "source": [
    "str = \"Backend Python\"\n",
    "print(\"Backend\" in str)"
   ]
  },
  {
   "cell_type": "code",
   "execution_count": 35,
   "id": "3ff4d91f-abdd-4cb6-9794-649b59417a36",
   "metadata": {},
   "outputs": [
    {
     "name": "stdout",
     "output_type": "stream",
     "text": [
      "True\n"
     ]
    }
   ],
   "source": [
    "str = \"Backend Python\"\n",
    "print(\"Backend Py\" in str)"
   ]
  },
  {
   "cell_type": "code",
   "execution_count": 36,
   "id": "60e4a91c-05ac-496d-8cbe-ebc5e19fdf89",
   "metadata": {},
   "outputs": [
    {
     "name": "stdout",
     "output_type": "stream",
     "text": [
      "False\n"
     ]
    }
   ],
   "source": [
    "str = \"Backend Python\"\n",
    "print(\"BackendPy\" in str)"
   ]
  },
  {
   "cell_type": "code",
   "execution_count": 37,
   "id": "523f42e1-fd25-4a55-bc3b-c476160e7f01",
   "metadata": {},
   "outputs": [],
   "source": [
    "## prueba de afiliacion en tuplas"
   ]
  },
  {
   "cell_type": "code",
   "execution_count": 38,
   "id": "4e4a914b-0cca-460f-8b71-f575cd2e3963",
   "metadata": {},
   "outputs": [
    {
     "name": "stdout",
     "output_type": "stream",
     "text": [
      "True\n"
     ]
    }
   ],
   "source": [
    "my_t = (\"a\",\"b\",\"c\",\"d\",\"e\")\n",
    "print(\"c\" in my_t)"
   ]
  },
  {
   "cell_type": "code",
   "execution_count": 39,
   "id": "55c85a06-4f82-4b09-b3b9-e09c72f878fb",
   "metadata": {},
   "outputs": [
    {
     "name": "stdout",
     "output_type": "stream",
     "text": [
      "False\n"
     ]
    }
   ],
   "source": [
    "my_t = (\"a\",\"b\",\"c\",\"d\",\"e\")\n",
    "print(\"f\" in my_t)"
   ]
  },
  {
   "cell_type": "code",
   "execution_count": 40,
   "id": "148ca6a1-b692-41f2-80f6-cd1dfc2d4607",
   "metadata": {},
   "outputs": [
    {
     "name": "stdout",
     "output_type": "stream",
     "text": [
      "True\n"
     ]
    }
   ],
   "source": [
    "my_t = (1,2,3,4,5)\n",
    "print(5 in my_t)"
   ]
  },
  {
   "cell_type": "code",
   "execution_count": 41,
   "id": "f7012885-7859-4c3a-af64-92f83ae775e2",
   "metadata": {},
   "outputs": [
    {
     "name": "stdout",
     "output_type": "stream",
     "text": [
      "False\n"
     ]
    }
   ],
   "source": [
    "my_t = (1,2,3,4,5)\n",
    "print(6 in my_t)"
   ]
  },
  {
   "cell_type": "code",
   "execution_count": 42,
   "id": "a260bb63-561a-4066-af48-54d7faa83391",
   "metadata": {},
   "outputs": [
    {
     "name": "stdout",
     "output_type": "stream",
     "text": [
      "False\n"
     ]
    }
   ],
   "source": [
    "my_t = (1,2,3,4,5)\n",
    "print(5 not in my_t)"
   ]
  },
  {
   "cell_type": "code",
   "execution_count": 43,
   "id": "c990fc6e-81ae-4d7e-a199-79de36f2a7f0",
   "metadata": {},
   "outputs": [
    {
     "name": "stdout",
     "output_type": "stream",
     "text": [
      "True\n"
     ]
    }
   ],
   "source": [
    "my_t = (1,2,3,4,5)\n",
    "print(6 not in my_t)"
   ]
  },
  {
   "cell_type": "code",
   "execution_count": 44,
   "id": "b8b8237d-986d-4d13-bb80-d76008619029",
   "metadata": {},
   "outputs": [],
   "source": [
    "###listas"
   ]
  },
  {
   "cell_type": "code",
   "execution_count": 45,
   "id": "61b565db-b7a7-4588-8dad-a74f7f87cd99",
   "metadata": {},
   "outputs": [
    {
     "name": "stdout",
     "output_type": "stream",
     "text": [
      "False\n"
     ]
    }
   ],
   "source": [
    "myl = [\"a\",\"b\",\"c\",\"d\",\"e\"]\n",
    "print(\"c\" not in myl)"
   ]
  },
  {
   "cell_type": "code",
   "execution_count": 46,
   "id": "05510503-4f23-4d13-accf-4d776998a3f5",
   "metadata": {},
   "outputs": [
    {
     "name": "stdout",
     "output_type": "stream",
     "text": [
      "True\n"
     ]
    }
   ],
   "source": [
    "myl = [\"a\",\"b\",\"c\",\"d\",\"e\"]\n",
    "print(\"c\" in myl)"
   ]
  },
  {
   "cell_type": "code",
   "execution_count": 47,
   "id": "985a9639-85d0-493d-9024-d43ae1783eb9",
   "metadata": {},
   "outputs": [
    {
     "name": "stdout",
     "output_type": "stream",
     "text": [
      "True\n"
     ]
    }
   ],
   "source": [
    "myl = [\"a\",\"b\",\"c\",\"d\",\"e\"]\n",
    "print(\"f\" not in myl)"
   ]
  },
  {
   "cell_type": "code",
   "execution_count": 48,
   "id": "448e29ce-5a7e-4c4b-a46b-a8a6eb3bf205",
   "metadata": {},
   "outputs": [
    {
     "name": "stdout",
     "output_type": "stream",
     "text": [
      "False\n"
     ]
    }
   ],
   "source": [
    "myl = [\"a\",\"b\",\"c\",\"d\",\"e\"]\n",
    "print(\"f\" in myl)"
   ]
  },
  {
   "cell_type": "code",
   "execution_count": 49,
   "id": "a2c12f64-f9f4-432d-910f-4013fb2a4f2f",
   "metadata": {},
   "outputs": [
    {
     "name": "stdout",
     "output_type": "stream",
     "text": [
      "False\n"
     ]
    }
   ],
   "source": [
    "myl = [1,2,3,4,5,6]\n",
    "print(6 not in myl)"
   ]
  },
  {
   "cell_type": "code",
   "execution_count": 50,
   "id": "5290943b-dec0-48d5-9b52-fc7847390de4",
   "metadata": {},
   "outputs": [],
   "source": [
    "### Sets"
   ]
  },
  {
   "cell_type": "code",
   "execution_count": 51,
   "id": "503c0b8b-f46c-4046-871d-5f61a46dfcb7",
   "metadata": {},
   "outputs": [
    {
     "name": "stdout",
     "output_type": "stream",
     "text": [
      "True\n"
     ]
    }
   ],
   "source": [
    "mys = {\"a\",\"b\",\"c\",\"d\",\"e\"}\n",
    "print(\"c\" in mys)"
   ]
  },
  {
   "cell_type": "code",
   "execution_count": 52,
   "id": "57779f7a-9e58-402d-b3a1-9cd6d2e37a4b",
   "metadata": {},
   "outputs": [
    {
     "name": "stdout",
     "output_type": "stream",
     "text": [
      "False\n"
     ]
    }
   ],
   "source": [
    "myl = [\"a\",\"b\",\"c\",\"d\",\"e\"]\n",
    "print(\"c\" not in myl)"
   ]
  },
  {
   "cell_type": "code",
   "execution_count": 53,
   "id": "75a36dbe-5d77-4b88-a3ae-709a01b7fe19",
   "metadata": {},
   "outputs": [
    {
     "name": "stdout",
     "output_type": "stream",
     "text": [
      "False\n"
     ]
    }
   ],
   "source": [
    "myl = [\"a\",\"b\",\"c\",\"d\",\"e\"]\n",
    "print(\"f\" in myl)"
   ]
  },
  {
   "cell_type": "code",
   "execution_count": 54,
   "id": "8e87040b-ab58-4f03-a785-a0e2cd51d1b3",
   "metadata": {},
   "outputs": [
    {
     "name": "stdout",
     "output_type": "stream",
     "text": [
      "True\n"
     ]
    }
   ],
   "source": [
    "myl = [\"a\",\"b\",\"c\",\"d\",\"e\"]\n",
    "print(\"f\" not in myl)"
   ]
  },
  {
   "cell_type": "code",
   "execution_count": 55,
   "id": "ecb92138-1cd6-464e-b4af-38c7e04c5012",
   "metadata": {},
   "outputs": [],
   "source": [
    "### diccionarios"
   ]
  },
  {
   "cell_type": "code",
   "execution_count": 57,
   "id": "443719db-e29a-478e-a6dc-30b7a3ae00a2",
   "metadata": {},
   "outputs": [
    {
     "name": "stdout",
     "output_type": "stream",
     "text": [
      "True\n"
     ]
    }
   ],
   "source": [
    "myd = {\"a\":100, \"b\":130, \"c\":100, \"d\":170, \"e\":200}\n",
    "print(\"c\" in myd)"
   ]
  },
  {
   "cell_type": "code",
   "execution_count": 58,
   "id": "563ac8e5-a613-48db-af1e-79dcde87a48e",
   "metadata": {},
   "outputs": [
    {
     "name": "stdout",
     "output_type": "stream",
     "text": [
      "False\n"
     ]
    }
   ],
   "source": [
    "myd = {\"a\":100, \"b\":130, \"c\":100, \"d\":170, \"e\":200}\n",
    "print(\"100\" in myd)"
   ]
  },
  {
   "cell_type": "code",
   "execution_count": 59,
   "id": "26d42449-de7c-49a8-ab82-5f3d42450edc",
   "metadata": {},
   "outputs": [
    {
     "name": "stdout",
     "output_type": "stream",
     "text": [
      "True\n"
     ]
    }
   ],
   "source": [
    "myd = {\"a\":100, \"b\":130, \"c\":100, \"d\":170, \"e\":200}\n",
    "print(100 in myd.values())"
   ]
  },
  {
   "cell_type": "code",
   "execution_count": 60,
   "id": "15089745-f9f2-45c0-94d1-df2089842e13",
   "metadata": {},
   "outputs": [
    {
     "name": "stdout",
     "output_type": "stream",
     "text": [
      "False\n"
     ]
    }
   ],
   "source": [
    "myd = {\"a\":100, \"b\":130, \"c\":100, \"d\":170, \"e\":200}\n",
    "print(300 in myd.values())"
   ]
  },
  {
   "cell_type": "code",
   "execution_count": 61,
   "id": "5e6989a6-f538-4836-a172-4661a8b098ee",
   "metadata": {},
   "outputs": [
    {
     "name": "stdout",
     "output_type": "stream",
     "text": [
      "False\n"
     ]
    }
   ],
   "source": [
    "myd = {\"a\":100, \"b\":130, \"c\":100, \"d\":170, \"e\":200}\n",
    "print(100 not in myd.values())"
   ]
  },
  {
   "cell_type": "code",
   "execution_count": 62,
   "id": "0954ff7e-c384-491c-8841-1c1d12cfc0d9",
   "metadata": {},
   "outputs": [
    {
     "name": "stdout",
     "output_type": "stream",
     "text": [
      "True\n"
     ]
    }
   ],
   "source": [
    "myd = {\"a\":100, \"b\":130, \"c\":100, \"d\":170, \"e\":200}\n",
    "print(300 not in myd.values())"
   ]
  },
  {
   "cell_type": "code",
   "execution_count": null,
   "id": "64dc7ba2-5f1e-47d8-9c9e-0f7f2e6e3fa4",
   "metadata": {},
   "outputs": [],
   "source": []
  }
 ],
 "metadata": {
  "kernelspec": {
   "display_name": "Python 3 (ipykernel)",
   "language": "python",
   "name": "python3"
  },
  "language_info": {
   "codemirror_mode": {
    "name": "ipython",
    "version": 3
   },
   "file_extension": ".py",
   "mimetype": "text/x-python",
   "name": "python",
   "nbconvert_exporter": "python",
   "pygments_lexer": "ipython3",
   "version": "3.11.4"
  }
 },
 "nbformat": 4,
 "nbformat_minor": 5
}

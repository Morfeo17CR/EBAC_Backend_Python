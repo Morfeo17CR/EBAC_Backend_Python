{
 "cells": [
  {
   "cell_type": "markdown",
   "id": "290b0b30-4a21-4992-97a6-b5200dde7f74",
   "metadata": {},
   "source": [
    "###Funciones"
   ]
  },
  {
   "cell_type": "code",
   "execution_count": 1,
   "id": "bbe28e4d-92c0-4b33-9f9e-d3eac8403d7f",
   "metadata": {},
   "outputs": [],
   "source": [
    "def print_num(num):\n",
    "    print(\"el valor de number es: \", num)\n"
   ]
  },
  {
   "cell_type": "code",
   "execution_count": 2,
   "id": "0c5d54b6-18c6-4a65-9283-a6d378a2bd01",
   "metadata": {},
   "outputs": [
    {
     "name": "stdout",
     "output_type": "stream",
     "text": [
      "el valor de number es:  14\n"
     ]
    }
   ],
   "source": [
    "print_num(14)"
   ]
  },
  {
   "cell_type": "code",
   "execution_count": 3,
   "id": "675ea6ca-3313-45bd-8a52-11d5a2cd2e32",
   "metadata": {},
   "outputs": [],
   "source": [
    "def plus_ten(num):\n",
    "    return num + 10\n",
    "def minus_ten(num):\n",
    "    return num - 10\n",
    "\n",
    "def another_fun(f, num):\n",
    "    result = f (num)\n",
    "    return result"
   ]
  },
  {
   "cell_type": "code",
   "execution_count": 4,
   "id": "754937ba-2564-4ff9-8c58-3c81682bbcca",
   "metadata": {},
   "outputs": [
    {
     "data": {
      "text/plain": [
       "210"
      ]
     },
     "execution_count": 4,
     "metadata": {},
     "output_type": "execute_result"
    }
   ],
   "source": [
    "plus_ten(200)"
   ]
  },
  {
   "cell_type": "code",
   "execution_count": 5,
   "id": "be449aca-9c43-4f60-a2c3-9e7a2cae8fd7",
   "metadata": {},
   "outputs": [
    {
     "data": {
      "text/plain": [
       "190"
      ]
     },
     "execution_count": 5,
     "metadata": {},
     "output_type": "execute_result"
    }
   ],
   "source": [
    "minus_ten(200)"
   ]
  },
  {
   "cell_type": "code",
   "execution_count": 6,
   "id": "6b62ab18-7e86-4f87-8edd-727284b42626",
   "metadata": {},
   "outputs": [
    {
     "data": {
      "text/plain": [
       "210"
      ]
     },
     "execution_count": 6,
     "metadata": {},
     "output_type": "execute_result"
    }
   ],
   "source": [
    "another_fun(plus_ten, 200)"
   ]
  },
  {
   "cell_type": "code",
   "execution_count": 7,
   "id": "be640b76-5197-49e2-b684-eb973f40f8ab",
   "metadata": {},
   "outputs": [],
   "source": [
    "###funciones anidadas"
   ]
  },
  {
   "cell_type": "code",
   "execution_count": 10,
   "id": "e12e31f8-2b96-43c1-9430-8a9ffa88fb03",
   "metadata": {},
   "outputs": [],
   "source": [
    "def my_fun():\n",
    "    def nested_fun():\n",
    "        print(\"funcion anidada\")\n",
    "    return nested_fun"
   ]
  },
  {
   "cell_type": "code",
   "execution_count": 11,
   "id": "ba37b588-ff9b-42bb-8816-72832b61c15f",
   "metadata": {},
   "outputs": [],
   "source": [
    "result = my_fun()"
   ]
  },
  {
   "cell_type": "code",
   "execution_count": 24,
   "id": "a102e002-4412-48a6-b31a-434bb60973dd",
   "metadata": {},
   "outputs": [],
   "source": [
    "def logger(func):\n",
    "    def log_func(*args):\n",
    "        print(\"Running '{}' con los parametros {}\".format(func.__name__, args))\n",
    "        print(func(*args))\n",
    "    return log_func\n",
    "\n",
    "def add(x,y):\n",
    "    return x + y\n",
    "\n",
    "def sub(x,y):\n",
    "    return x - y\n",
    "\n",
    "add_logger = logger(add)\n",
    "sub_logger = logger(sub)"
   ]
  },
  {
   "cell_type": "code",
   "execution_count": 19,
   "id": "92ce6db6-8aa5-489b-920f-b09b061bdfc4",
   "metadata": {},
   "outputs": [
    {
     "data": {
      "text/plain": [
       "5"
      ]
     },
     "execution_count": 19,
     "metadata": {},
     "output_type": "execute_result"
    }
   ],
   "source": [
    "add(3,2)"
   ]
  },
  {
   "cell_type": "code",
   "execution_count": 5,
   "id": "8d8853c2-de5b-430d-a6fe-ad64b86ce5be",
   "metadata": {},
   "outputs": [
    {
     "data": {
      "text/plain": [
       "1"
      ]
     },
     "execution_count": 5,
     "metadata": {},
     "output_type": "execute_result"
    }
   ],
   "source": [
    "sub(3,2)"
   ]
  },
  {
   "cell_type": "code",
   "execution_count": 20,
   "id": "a3cabda8-5301-43e0-a3d8-19f3f119a689",
   "metadata": {},
   "outputs": [
    {
     "name": "stdout",
     "output_type": "stream",
     "text": [
      "Running 'sub' con los parametros (3, 2)\n",
      "1\n"
     ]
    }
   ],
   "source": [
    "add_logger(3,2)"
   ]
  },
  {
   "cell_type": "code",
   "execution_count": 13,
   "id": "483011b2-3028-45eb-989d-37cc64776b6d",
   "metadata": {},
   "outputs": [
    {
     "ename": "AttributeError",
     "evalue": "'function' object has no attribute '_name_'",
     "output_type": "error",
     "traceback": [
      "\u001b[1;31m---------------------------------------------------------------------------\u001b[0m",
      "\u001b[1;31mAttributeError\u001b[0m                            Traceback (most recent call last)",
      "Cell \u001b[1;32mIn[13], line 1\u001b[0m\n\u001b[1;32m----> 1\u001b[0m \u001b[43madd_looger\u001b[49m\u001b[43m(\u001b[49m\u001b[38;5;241;43m3\u001b[39;49m\u001b[43m,\u001b[49m\u001b[38;5;241;43m2\u001b[39;49m\u001b[43m)\u001b[49m\n",
      "Cell \u001b[1;32mIn[7], line 3\u001b[0m, in \u001b[0;36mlooger.<locals>.log_func\u001b[1;34m(*args)\u001b[0m\n\u001b[0;32m      2\u001b[0m \u001b[38;5;28;01mdef\u001b[39;00m \u001b[38;5;21mlog_func\u001b[39m(\u001b[38;5;241m*\u001b[39margs):\n\u001b[1;32m----> 3\u001b[0m     \u001b[38;5;28mprint\u001b[39m(\u001b[38;5;124m\"\u001b[39m\u001b[38;5;124mRunning \u001b[39m\u001b[38;5;124m'\u001b[39m\u001b[38;5;132;01m{}\u001b[39;00m\u001b[38;5;124m'\u001b[39m\u001b[38;5;124m con los parametros \u001b[39m\u001b[38;5;132;01m{}\u001b[39;00m\u001b[38;5;124m\"\u001b[39m\u001b[38;5;241m.\u001b[39mformat(\u001b[43mfunc\u001b[49m\u001b[38;5;241;43m.\u001b[39;49m\u001b[43m_name_\u001b[49m, args))\n\u001b[0;32m      4\u001b[0m     \u001b[38;5;28mprint\u001b[39m(func(\u001b[38;5;241m*\u001b[39margs))\n",
      "\u001b[1;31mAttributeError\u001b[0m: 'function' object has no attribute '_name_'"
     ]
    }
   ],
   "source": [
    "add_looger(3,2)"
   ]
  },
  {
   "cell_type": "code",
   "execution_count": 15,
   "id": "1e815efc-a24e-4740-b04d-c5696c35de7e",
   "metadata": {},
   "outputs": [
    {
     "ename": "AttributeError",
     "evalue": "'function' object has no attribute '_name_'",
     "output_type": "error",
     "traceback": [
      "\u001b[1;31m---------------------------------------------------------------------------\u001b[0m",
      "\u001b[1;31mAttributeError\u001b[0m                            Traceback (most recent call last)",
      "Cell \u001b[1;32mIn[15], line 1\u001b[0m\n\u001b[1;32m----> 1\u001b[0m \u001b[43madd_logger\u001b[49m\u001b[43m(\u001b[49m\u001b[38;5;241;43m3\u001b[39;49m\u001b[43m,\u001b[49m\u001b[38;5;241;43m2\u001b[39;49m\u001b[43m)\u001b[49m\n",
      "Cell \u001b[1;32mIn[10], line 3\u001b[0m, in \u001b[0;36mlogger.<locals>.log_func\u001b[1;34m(*args)\u001b[0m\n\u001b[0;32m      2\u001b[0m \u001b[38;5;28;01mdef\u001b[39;00m \u001b[38;5;21mlog_func\u001b[39m(\u001b[38;5;241m*\u001b[39margs):\n\u001b[1;32m----> 3\u001b[0m     \u001b[38;5;28mprint\u001b[39m(\u001b[38;5;124m\"\u001b[39m\u001b[38;5;124mRunning \u001b[39m\u001b[38;5;124m'\u001b[39m\u001b[38;5;132;01m{}\u001b[39;00m\u001b[38;5;124m'\u001b[39m\u001b[38;5;124m con los parametros \u001b[39m\u001b[38;5;132;01m{}\u001b[39;00m\u001b[38;5;124m\"\u001b[39m\u001b[38;5;241m.\u001b[39mformat(\u001b[43mfunc\u001b[49m\u001b[38;5;241;43m.\u001b[39;49m\u001b[43m_name_\u001b[49m, args))\n\u001b[0;32m      4\u001b[0m     \u001b[38;5;28mprint\u001b[39m(func(\u001b[38;5;241m*\u001b[39margs))\n",
      "\u001b[1;31mAttributeError\u001b[0m: 'function' object has no attribute '_name_'"
     ]
    }
   ],
   "source": [
    "add_logger(3,2)"
   ]
  },
  {
   "cell_type": "code",
   "execution_count": 21,
   "id": "ac5ecee6-09a6-4f97-9123-55a4f9fc28cb",
   "metadata": {},
   "outputs": [
    {
     "data": {
      "text/plain": [
       "5"
      ]
     },
     "execution_count": 21,
     "metadata": {},
     "output_type": "execute_result"
    }
   ],
   "source": [
    "add(3,2)"
   ]
  },
  {
   "cell_type": "code",
   "execution_count": 22,
   "id": "5bf0f9b1-7f1b-497f-8c82-40bd2134b862",
   "metadata": {},
   "outputs": [
    {
     "name": "stdout",
     "output_type": "stream",
     "text": [
      "Running 'sub' con los parametros (3, 2)\n",
      "1\n"
     ]
    }
   ],
   "source": [
    "add_logger(3,2)"
   ]
  },
  {
   "cell_type": "code",
   "execution_count": 23,
   "id": "2a186b1a-96bd-4e30-bec0-4cec1ebd7c85",
   "metadata": {},
   "outputs": [
    {
     "data": {
      "text/plain": [
       "5"
      ]
     },
     "execution_count": 23,
     "metadata": {},
     "output_type": "execute_result"
    }
   ],
   "source": [
    "add(3,2)"
   ]
  },
  {
   "cell_type": "code",
   "execution_count": 25,
   "id": "d78482d9-9b13-4996-ab0b-f12ef73c64a1",
   "metadata": {},
   "outputs": [
    {
     "name": "stdout",
     "output_type": "stream",
     "text": [
      "Running 'add' con los parametros (3, 2)\n",
      "5\n"
     ]
    }
   ],
   "source": [
    "add_logger(3,2)"
   ]
  },
  {
   "cell_type": "code",
   "execution_count": 26,
   "id": "e522cc05-71cb-4195-b2c1-0b0cd9b76793",
   "metadata": {},
   "outputs": [],
   "source": [
    "#### func dir"
   ]
  },
  {
   "cell_type": "code",
   "execution_count": 27,
   "id": "d2d9983d-31b7-4dad-a8cf-2ed1bf50f2c6",
   "metadata": {},
   "outputs": [
    {
     "data": {
      "text/plain": [
       "['__annotations__',\n",
       " '__builtins__',\n",
       " '__call__',\n",
       " '__class__',\n",
       " '__closure__',\n",
       " '__code__',\n",
       " '__defaults__',\n",
       " '__delattr__',\n",
       " '__dict__',\n",
       " '__dir__',\n",
       " '__doc__',\n",
       " '__eq__',\n",
       " '__format__',\n",
       " '__ge__',\n",
       " '__get__',\n",
       " '__getattribute__',\n",
       " '__getstate__',\n",
       " '__globals__',\n",
       " '__gt__',\n",
       " '__hash__',\n",
       " '__init__',\n",
       " '__init_subclass__',\n",
       " '__kwdefaults__',\n",
       " '__le__',\n",
       " '__lt__',\n",
       " '__module__',\n",
       " '__name__',\n",
       " '__ne__',\n",
       " '__new__',\n",
       " '__qualname__',\n",
       " '__reduce__',\n",
       " '__reduce_ex__',\n",
       " '__repr__',\n",
       " '__setattr__',\n",
       " '__sizeof__',\n",
       " '__str__',\n",
       " '__subclasshook__']"
      ]
     },
     "execution_count": 27,
     "metadata": {},
     "output_type": "execute_result"
    }
   ],
   "source": [
    "dir(add)"
   ]
  },
  {
   "cell_type": "code",
   "execution_count": 28,
   "id": "3ae77c0a-85e3-4d5d-8b93-134b1772dffe",
   "metadata": {},
   "outputs": [
    {
     "data": {
      "text/plain": [
       "['__annotations__',\n",
       " '__builtins__',\n",
       " '__call__',\n",
       " '__class__',\n",
       " '__closure__',\n",
       " '__code__',\n",
       " '__defaults__',\n",
       " '__delattr__',\n",
       " '__dict__',\n",
       " '__dir__',\n",
       " '__doc__',\n",
       " '__eq__',\n",
       " '__format__',\n",
       " '__ge__',\n",
       " '__get__',\n",
       " '__getattribute__',\n",
       " '__getstate__',\n",
       " '__globals__',\n",
       " '__gt__',\n",
       " '__hash__',\n",
       " '__init__',\n",
       " '__init_subclass__',\n",
       " '__kwdefaults__',\n",
       " '__le__',\n",
       " '__lt__',\n",
       " '__module__',\n",
       " '__name__',\n",
       " '__ne__',\n",
       " '__new__',\n",
       " '__qualname__',\n",
       " '__reduce__',\n",
       " '__reduce_ex__',\n",
       " '__repr__',\n",
       " '__setattr__',\n",
       " '__sizeof__',\n",
       " '__str__',\n",
       " '__subclasshook__']"
      ]
     },
     "execution_count": 28,
     "metadata": {},
     "output_type": "execute_result"
    }
   ],
   "source": [
    "dir(logger)"
   ]
  },
  {
   "cell_type": "code",
   "execution_count": 29,
   "id": "776dbf7b-e1c4-42ac-bcf5-72cdb9a017e1",
   "metadata": {},
   "outputs": [
    {
     "data": {
      "text/plain": [
       "'add'"
      ]
     },
     "execution_count": 29,
     "metadata": {},
     "output_type": "execute_result"
    }
   ],
   "source": [
    "add.__name__"
   ]
  },
  {
   "cell_type": "code",
   "execution_count": 30,
   "id": "18295737-aad5-448f-a341-2d6111c23c14",
   "metadata": {},
   "outputs": [],
   "source": [
    "my_dictionary = {\"a\":100, \"b\":200, \"c\":300}"
   ]
  },
  {
   "cell_type": "code",
   "execution_count": 31,
   "id": "21a4f0a1-b044-4936-b00a-0af02795c66d",
   "metadata": {},
   "outputs": [
    {
     "name": "stdout",
     "output_type": "stream",
     "text": [
      "<class 'dict'>\n"
     ]
    }
   ],
   "source": [
    "print(type(my_dictionary))"
   ]
  },
  {
   "cell_type": "code",
   "execution_count": 32,
   "id": "64159f3b-8131-45f1-ad34-6dabfde8ed71",
   "metadata": {},
   "outputs": [
    {
     "name": "stdout",
     "output_type": "stream",
     "text": [
      "['__class__', '__class_getitem__', '__contains__', '__delattr__', '__delitem__', '__dir__', '__doc__', '__eq__', '__format__', '__ge__', '__getattribute__', '__getitem__', '__getstate__', '__gt__', '__hash__', '__init__', '__init_subclass__', '__ior__', '__iter__', '__le__', '__len__', '__lt__', '__ne__', '__new__', '__or__', '__reduce__', '__reduce_ex__', '__repr__', '__reversed__', '__ror__', '__setattr__', '__setitem__', '__sizeof__', '__str__', '__subclasshook__', 'clear', 'copy', 'fromkeys', 'get', 'items', 'keys', 'pop', 'popitem', 'setdefault', 'update', 'values']\n"
     ]
    }
   ],
   "source": [
    "print(dir(my_dictionary))"
   ]
  },
  {
   "cell_type": "code",
   "execution_count": 33,
   "id": "095c2df2-804f-414d-b54a-a5234e035bd3",
   "metadata": {},
   "outputs": [
    {
     "data": {
      "text/plain": [
       "\"dict() -> new empty dictionary\\ndict(mapping) -> new dictionary initialized from a mapping object's\\n    (key, value) pairs\\ndict(iterable) -> new dictionary initialized as if via:\\n    d = {}\\n    for k, v in iterable:\\n        d[k] = v\\ndict(**kwargs) -> new dictionary initialized with the name=value pairs\\n    in the keyword argument list.  For example:  dict(one=1, two=2)\""
      ]
     },
     "execution_count": 33,
     "metadata": {},
     "output_type": "execute_result"
    }
   ],
   "source": [
    "my_dictionary.__doc__"
   ]
  },
  {
   "cell_type": "code",
   "execution_count": 34,
   "id": "b7721229-90e1-4a06-b6fb-fa857203e197",
   "metadata": {},
   "outputs": [
    {
     "data": {
      "text/plain": [
       "<function dict.pop>"
      ]
     },
     "execution_count": 34,
     "metadata": {},
     "output_type": "execute_result"
    }
   ],
   "source": [
    "my_dictionary.pop"
   ]
  },
  {
   "cell_type": "code",
   "execution_count": 35,
   "id": "0cc47b6c-5ae5-45e8-a85d-746a0d62ada8",
   "metadata": {},
   "outputs": [
    {
     "name": "stdout",
     "output_type": "stream",
     "text": [
      "{'a': 100, 'b': 200, 'c': 300}\n"
     ]
    }
   ],
   "source": [
    "print(my_dictionary)"
   ]
  },
  {
   "cell_type": "code",
   "execution_count": 36,
   "id": "67960018-4dc9-464c-894d-f529d0509a9c",
   "metadata": {},
   "outputs": [
    {
     "name": "stdout",
     "output_type": "stream",
     "text": [
      "['__add__', '__class__', '__class_getitem__', '__contains__', '__delattr__', '__delitem__', '__dir__', '__doc__', '__eq__', '__format__', '__ge__', '__getattribute__', '__getitem__', '__getstate__', '__gt__', '__hash__', '__iadd__', '__imul__', '__init__', '__init_subclass__', '__iter__', '__le__', '__len__', '__lt__', '__mul__', '__ne__', '__new__', '__reduce__', '__reduce_ex__', '__repr__', '__reversed__', '__rmul__', '__setattr__', '__setitem__', '__sizeof__', '__str__', '__subclasshook__', 'append', 'clear', 'copy', 'count', 'extend', 'index', 'insert', 'pop', 'remove', 'reverse', 'sort']\n",
      "\n",
      " <class 'list'>\n"
     ]
    }
   ],
   "source": [
    "my_list = [120, 53, 28]\n",
    "\n",
    "print(dir(my_list))\n",
    "print(\"\\n\",type(my_list))"
   ]
  },
  {
   "cell_type": "code",
   "execution_count": 37,
   "id": "47f3f06d-fca5-4ad8-924d-5cc668ab61a6",
   "metadata": {},
   "outputs": [
    {
     "name": "stdout",
     "output_type": "stream",
     "text": [
      "['__add__', '__class__', '__class_getitem__', '__contains__', '__delattr__', '__dir__', '__doc__', '__eq__', '__format__', '__ge__', '__getattribute__', '__getitem__', '__getnewargs__', '__getstate__', '__gt__', '__hash__', '__init__', '__init_subclass__', '__iter__', '__le__', '__len__', '__lt__', '__mul__', '__ne__', '__new__', '__reduce__', '__reduce_ex__', '__repr__', '__rmul__', '__setattr__', '__sizeof__', '__str__', '__subclasshook__', 'count', 'index']\n",
      "\n",
      " <class 'tuple'>\n"
     ]
    }
   ],
   "source": [
    "my_tup = (120, 53, 28)\n",
    "\n",
    "print(dir(my_tup))\n",
    "print(\"\\n\",type(my_tup))"
   ]
  },
  {
   "cell_type": "code",
   "execution_count": 38,
   "id": "ff4183fa-e884-4fc8-860b-54cafcb1dd49",
   "metadata": {},
   "outputs": [
    {
     "name": "stdout",
     "output_type": "stream",
     "text": [
      "['__and__', '__class__', '__class_getitem__', '__contains__', '__delattr__', '__dir__', '__doc__', '__eq__', '__format__', '__ge__', '__getattribute__', '__getstate__', '__gt__', '__hash__', '__iand__', '__init__', '__init_subclass__', '__ior__', '__isub__', '__iter__', '__ixor__', '__le__', '__len__', '__lt__', '__ne__', '__new__', '__or__', '__rand__', '__reduce__', '__reduce_ex__', '__repr__', '__ror__', '__rsub__', '__rxor__', '__setattr__', '__sizeof__', '__str__', '__sub__', '__subclasshook__', '__xor__', 'add', 'clear', 'copy', 'difference', 'difference_update', 'discard', 'intersection', 'intersection_update', 'isdisjoint', 'issubset', 'issuperset', 'pop', 'remove', 'symmetric_difference', 'symmetric_difference_update', 'union', 'update']\n",
      "\n",
      " <class 'set'>\n"
     ]
    }
   ],
   "source": [
    "my_list = {120, 53, 28}\n",
    "\n",
    "print(dir(my_list))\n",
    "print(\"\\n\",type(my_list))"
   ]
  },
  {
   "cell_type": "code",
   "execution_count": 40,
   "id": "762e47db-18ac-457f-a74f-fa4fbd18b317",
   "metadata": {},
   "outputs": [
    {
     "name": "stdout",
     "output_type": "stream",
     "text": [
      "Requirement already satisfied: requests in c:\\users\\lenovo\\appdata\\local\\programs\\python\\python311\\lib\\site-packages (2.31.0)\n",
      "Requirement already satisfied: charset-normalizer<4,>=2 in c:\\users\\lenovo\\appdata\\local\\programs\\python\\python311\\lib\\site-packages (from requests) (3.3.2)\n",
      "Requirement already satisfied: idna<4,>=2.5 in c:\\users\\lenovo\\appdata\\local\\programs\\python\\python311\\lib\\site-packages (from requests) (3.4)\n",
      "Requirement already satisfied: urllib3<3,>=1.21.1 in c:\\users\\lenovo\\appdata\\local\\programs\\python\\python311\\lib\\site-packages (from requests) (2.1.0)\n",
      "Requirement already satisfied: certifi>=2017.4.17 in c:\\users\\lenovo\\appdata\\local\\programs\\python\\python311\\lib\\site-packages (from requests) (2023.11.17)\n"
     ]
    },
    {
     "name": "stderr",
     "output_type": "stream",
     "text": [
      "\n",
      "[notice] A new release of pip is available: 23.3.1 -> 23.3.2\n",
      "[notice] To update, run: python.exe -m pip install --upgrade pip\n"
     ]
    }
   ],
   "source": [
    "! pip install requests"
   ]
  },
  {
   "cell_type": "code",
   "execution_count": 41,
   "id": "5a917046-a1b9-464b-917d-521eae93938f",
   "metadata": {},
   "outputs": [
    {
     "name": "stdout",
     "output_type": "stream",
     "text": [
      "['ConnectTimeout', 'ConnectionError', 'DependencyWarning', 'FileModeWarning', 'HTTPError', 'JSONDecodeError', 'NullHandler', 'PreparedRequest', 'ReadTimeout', 'Request', 'RequestException', 'RequestsDependencyWarning', 'Response', 'Session', 'Timeout', 'TooManyRedirects', 'URLRequired', '__author__', '__author_email__', '__build__', '__builtins__', '__cached__', '__cake__', '__copyright__', '__description__', '__doc__', '__file__', '__license__', '__loader__', '__name__', '__package__', '__path__', '__spec__', '__title__', '__url__', '__version__', '_check_cryptography', '_internal_utils', 'adapters', 'api', 'auth', 'certs', 'chardet_version', 'charset_normalizer_version', 'check_compatibility', 'codes', 'compat', 'cookies', 'delete', 'exceptions', 'get', 'head', 'hooks', 'logging', 'models', 'options', 'packages', 'patch', 'post', 'put', 'request', 'session', 'sessions', 'ssl', 'status_codes', 'structures', 'urllib3', 'utils', 'warnings']\n"
     ]
    }
   ],
   "source": [
    "import requests\n",
    "print(dir(requests))"
   ]
  },
  {
   "cell_type": "code",
   "execution_count": 42,
   "id": "d87c6682-1d73-4557-b588-34991e07ba6c",
   "metadata": {},
   "outputs": [],
   "source": [
    "my_var = 10"
   ]
  },
  {
   "cell_type": "code",
   "execution_count": 45,
   "id": "408ecc10-acf9-4a40-8141-f4b097c59093",
   "metadata": {},
   "outputs": [
    {
     "name": "stdout",
     "output_type": "stream",
     "text": [
      "el tipo de variable es <class 'int'>\n",
      "el valor de variable es 10\n"
     ]
    }
   ],
   "source": [
    "print(\"el tipo de variable es {}\".format(type(my_var)))\n",
    "print(\"el valor de variable es {}\".format(my_var))"
   ]
  },
  {
   "cell_type": "code",
   "execution_count": 46,
   "id": "f2803c4d-f38b-4b44-9a98-234c94c83a07",
   "metadata": {},
   "outputs": [
    {
     "name": "stdout",
     "output_type": "stream",
     "text": [
      "valor: 10, tipo: <class 'int'>\n"
     ]
    }
   ],
   "source": [
    "print(\"valor: {}, tipo: {}\".format(my_var, type(my_var)))"
   ]
  },
  {
   "cell_type": "code",
   "execution_count": 56,
   "id": "1dacf3c4-a4a8-4d7a-b112-28ee3b4c585f",
   "metadata": {},
   "outputs": [
    {
     "name": "stdout",
     "output_type": "stream",
     "text": [
      "El lenguaje en el indice 1 es python\n",
      "El lenguaje en el indice 2 es go\n",
      "El lenguaje en el indice 3 es javasript\n",
      "El lenguaje en el indice 4 es java\n",
      "El lenguaje en el indice 5 es scala\n"
     ]
    }
   ],
   "source": [
    "### Funcion enumerate\n",
    "\n",
    "programming_language = [\"python\",\"go\",\"javasript\", \"java\", \"scala\"]\n",
    "\n",
    "\n",
    "for i, language_name in enumerate(programming_language, start = 1):\n",
    "    print(\"El lenguaje en el indice {} es {}\".format(i,language_name))\n"
   ]
  },
  {
   "cell_type": "code",
   "execution_count": 57,
   "id": "a964f3b5-8579-4d91-a338-6a32d3c93dfd",
   "metadata": {},
   "outputs": [],
   "source": [
    "### funciones lambda"
   ]
  },
  {
   "cell_type": "code",
   "execution_count": 59,
   "id": "ba7acb54-fe84-4d07-9a4c-a7636bae66e0",
   "metadata": {},
   "outputs": [
    {
     "name": "stdout",
     "output_type": "stream",
     "text": [
      "30\n",
      "60\n",
      "150\n"
     ]
    }
   ],
   "source": [
    "plus_10 = lambda x: x+10\n",
    "\n",
    "print(plus_10(20))\n",
    "print(plus_10(50))\n",
    "print(plus_10(140))"
   ]
  },
  {
   "cell_type": "code",
   "execution_count": 65,
   "id": "67439d52-69ed-4db7-8904-b571fe94af66",
   "metadata": {},
   "outputs": [],
   "source": [
    "my_list = [10,50,140,200,700,16,18]\n",
    "result = map(plus_10, my_list)"
   ]
  },
  {
   "cell_type": "code",
   "execution_count": 66,
   "id": "023751d8-a6f9-4d56-86ba-822f85e6a6f7",
   "metadata": {},
   "outputs": [
    {
     "data": {
      "text/plain": [
       "[20, 60, 150, 210, 710, 26, 28]"
      ]
     },
     "execution_count": 66,
     "metadata": {},
     "output_type": "execute_result"
    }
   ],
   "source": [
    "list(result)"
   ]
  },
  {
   "cell_type": "code",
   "execution_count": 64,
   "id": "c2f510f9-9df7-4aab-b3ae-9c247d30483b",
   "metadata": {},
   "outputs": [
    {
     "data": {
      "text/plain": [
       "[]"
      ]
     },
     "execution_count": 64,
     "metadata": {},
     "output_type": "execute_result"
    }
   ],
   "source": [
    "list(result)"
   ]
  },
  {
   "cell_type": "code",
   "execution_count": 63,
   "id": "6b1fbfcf-7e5e-49cb-8d81-2455d312bf71",
   "metadata": {},
   "outputs": [
    {
     "data": {
      "text/plain": [
       "[]"
      ]
     },
     "execution_count": 63,
     "metadata": {},
     "output_type": "execute_result"
    }
   ],
   "source": [
    "list(result)"
   ]
  },
  {
   "cell_type": "code",
   "execution_count": null,
   "id": "a478d5de-68d2-40f8-9494-036b541837b6",
   "metadata": {},
   "outputs": [],
   "source": []
  },
  {
   "cell_type": "code",
   "execution_count": null,
   "id": "919f427c-98d7-4e4b-8976-ea9a58ff11e3",
   "metadata": {},
   "outputs": [],
   "source": []
  },
  {
   "cell_type": "code",
   "execution_count": null,
   "id": "dea666b5-b11b-4058-b843-6a5b31450fc2",
   "metadata": {},
   "outputs": [],
   "source": []
  }
 ],
 "metadata": {
  "kernelspec": {
   "display_name": "Python 3 (ipykernel)",
   "language": "python",
   "name": "python3"
  },
  "language_info": {
   "codemirror_mode": {
    "name": "ipython",
    "version": 3
   },
   "file_extension": ".py",
   "mimetype": "text/x-python",
   "name": "python",
   "nbconvert_exporter": "python",
   "pygments_lexer": "ipython3",
   "version": "3.11.4"
  }
 },
 "nbformat": 4,
 "nbformat_minor": 5
}
